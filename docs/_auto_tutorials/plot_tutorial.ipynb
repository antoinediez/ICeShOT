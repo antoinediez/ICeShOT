{
  "cells": [
    {
      "cell_type": "markdown",
      "metadata": {},
      "source": [
        "\n# Tutorial\n\nThis tutorial shows how to use the main features of the library.\nMost of the examples in the gallery are built on these elements. \n"
      ]
    },
    {
      "cell_type": "markdown",
      "metadata": {},
      "source": [
        "First some standard imports\n\n"
      ]
    },
    {
      "cell_type": "code",
      "execution_count": null,
      "metadata": {
        "collapsed": false
      },
      "outputs": [],
      "source": [
        "import os \nimport sys\nsys.path.append(\"..\")\nimport math\nimport torch\nimport matplotlib\nfrom matplotlib import pyplot as plt\n\nmatplotlib.use('GTK3Agg')"
      ]
    },
    {
      "cell_type": "markdown",
      "metadata": {},
      "source": [
        "ICeShOT can run on a GPU (much faster) if there is one vailable or on the CPU otherwise.\n\n"
      ]
    },
    {
      "cell_type": "code",
      "execution_count": null,
      "metadata": {
        "collapsed": false
      },
      "outputs": [],
      "source": [
        "use_cuda = torch.cuda.is_available()\nif use_cuda:\n    torch.set_default_tensor_type(\"torch.cuda.FloatTensor\")\n    device = \"cuda\"\nelse:\n    torch.set_default_tensor_type(\"torch.FloatTensor\")\n    device = \"cpu\""
      ]
    },
    {
      "cell_type": "markdown",
      "metadata": {},
      "source": [
        "Let us first define the domain in which the simulation takes place.\nFor this we need to sample the **source points** using the following module. \n\n"
      ]
    },
    {
      "cell_type": "code",
      "execution_count": null,
      "metadata": {
        "collapsed": false
      },
      "outputs": [],
      "source": [
        "from iceshot import sample"
      ]
    },
    {
      "cell_type": "markdown",
      "metadata": {},
      "source": [
        "The main function simply sample a uniform grid of a given size on the unit cube.\n\n"
      ]
    },
    {
      "cell_type": "code",
      "execution_count": null,
      "metadata": {
        "collapsed": false
      },
      "outputs": [],
      "source": [
        "M = 512   # grid resolution\ndim = 2   # dimension \ngrid = sample.sample_grid(M,dim=dim,device=device)"
      ]
    },
    {
      "cell_type": "markdown",
      "metadata": {},
      "source": [
        "In order to have a more funny case, let us crop the domain in\na hourglass shape with an obstacle at the end of the funnel.\n\nThe following function returns 0 if the source point does not belong to the domain\nand a positive value otherwise. We keep only the source points in the domain.\n\n"
      ]
    },
    {
      "cell_type": "code",
      "execution_count": null,
      "metadata": {
        "collapsed": false
      },
      "outputs": [],
      "source": [
        "cut = 0.03   # define the bottom of the domain\no_cnt = 0.5 * torch.ones((1,dim))    # obstacle center\no_cnt[:,-1] = 0.3\nR_o = 0.1   # obstacle radius\ntunnel_size = 0.04    # tunnel width\n    \ndef crop_function(x):\n    cnt = 0.5 * torch.ones((1,dim))\n    xc = x - cnt\n    upper_cone = (xc[:,-1]>cut).float() * ((xc[:,:-1]**2).sum(1)<xc[:,-1]**2).float()\n    below = (xc[:,-1]<cut-2*tunnel_size).float()\n    tunnel = ((xc[:,:-1]**2).sum(1) < tunnel_size**2).float() * (1-below)\n    obstacle = (((x - o_cnt)**2).sum(1) > R_o**2).float()\n    return upper_cone + below*obstacle + tunnel\n\nreal_points = crop_function(grid)>0\nsource = grid[real_points,:]"
      ]
    },
    {
      "cell_type": "markdown",
      "metadata": {},
      "source": [
        "<div class=\"alert alert-info\"><h4>Note</h4><p>One can also use the function\n\n```python\nsource = sample.sample_cropped_domain(crop_function,n=M,dim=dim)</p></div>\n```\n"
      ]
    },
    {
      "cell_type": "markdown",
      "metadata": {},
      "source": [
        "Now we sample N **seed points** in the upper part of the domain \n\n"
      ]
    },
    {
      "cell_type": "code",
      "execution_count": null,
      "metadata": {
        "collapsed": false
      },
      "outputs": [],
      "source": [
        "N = 50\ncnt_seeds = 0.5*torch.ones((1,dim))\nsize_seeds = 0.3\ncnt_seeds[:,-1] = 1.0 - size_seeds/2\n\nseeds = size_seeds*(torch.rand((N,dim))-0.5) + cnt_seeds"
      ]
    },
    {
      "cell_type": "markdown",
      "metadata": {},
      "source": [
        "Most importantly, we give a **volume** to these particles\n\n"
      ]
    },
    {
      "cell_type": "code",
      "execution_count": null,
      "metadata": {
        "collapsed": false
      },
      "outputs": [],
      "source": [
        "vol_x = 1.0 + 2.0*torch.rand(N)    # We sample volumes with a ratio 1/3 between the smaller and larger particles\nvol_x *= 0.25/vol_x.sum()    # Normalize the volume so that the particles fill 25% of the total volume\n\nvol0 = vol_x.mean().item()    # Mean volume\nR0 = math.sqrt(vol0/math.pi) if dim==2 else (vol0/(4./3.*math.pi))**(1./3.)   # Mean particle size"
      ]
    },
    {
      "cell_type": "markdown",
      "metadata": {},
      "source": [
        "We now instantiate a particle system and check that each particle has enough pixels.\n\n"
      ]
    },
    {
      "cell_type": "code",
      "execution_count": null,
      "metadata": {
        "collapsed": false
      },
      "outputs": [],
      "source": [
        "from iceshot import cells\n\nsimu = cells.Cells(\n    seeds=seeds,source=source,\n    vol_x=vol_x,extra_space=\"void\"\n)\n\nres =  int(simu.volumes.min().item()/simu.vol_grid)    # Number of voxels for the smallest particle. \nprint(f\"Minimul number of voxels for one particle: {res}\")\n\nif res<150:\n    raise ValueError(\"Resolution is too small!\")"
      ]
    },
    {
      "cell_type": "markdown",
      "metadata": {},
      "source": [
        "We also need to introduce a **optimal transport solver**. \nTo do so, we first need a **cost function**. We choose a simple power cost with exponent 2.\n\n"
      ]
    },
    {
      "cell_type": "code",
      "execution_count": null,
      "metadata": {
        "collapsed": false
      },
      "outputs": [],
      "source": [
        "from iceshot import costs\nfrom iceshot import OT\nfrom iceshot.OT import OT_solver\n\np = 2\n\ncost_params = {\n    \"p\" : p,\n    \"scaling\" : \"volume\",\n    \"R\" : R0,\n    \"C\" : 0.25\n}\n\nsolver = OT_solver(\n    n_sinkhorn=100,n_sinkhorn_last=100,n_lloyds=5,\n    cost_function=costs.power_cost,cost_params=cost_params\n)"
      ]
    },
    {
      "cell_type": "markdown",
      "metadata": {},
      "source": [
        "<div class=\"alert alert-info\"><h4>Note</h4><p>The parameters `R` and `C` are scaling factors, they usually do not matter much but might affect the stability of the algorithm.\n\n  The parameters `n_sinkhorn` and `n_lloyds` define the number of iterations and epoch of the optimization algorithms. \n  They are important for the Sinkhorn algorithm but are essentially harmless for the preferred LBFGS-B algorithm which usually converges in a few iterations anyway.</p></div>\n\n"
      ]
    },
    {
      "cell_type": "markdown",
      "metadata": {},
      "source": [
        "We can finally **solve** the optimization problem. \nAs it is the initial step, we use Lloyd algorithm to ensure a reasonable initial configuration \n\n"
      ]
    },
    {
      "cell_type": "code",
      "execution_count": null,
      "metadata": {
        "collapsed": false
      },
      "outputs": [],
      "source": [
        "solver.solve(simu,\n             sinkhorn_algo=OT.LBFGSB,\n             tau=1.0,\n             to_bary=True,\n             show_progress=False,\n             bsr=True,\n             weight=1.0)"
      ]
    },
    {
      "cell_type": "markdown",
      "metadata": {},
      "source": [
        "We can plot this initial configuration. \n\n"
      ]
    },
    {
      "cell_type": "code",
      "execution_count": null,
      "metadata": {
        "collapsed": false
      },
      "outputs": [],
      "source": [
        "from iceshot import plot_cells\n\nsimu_plot = plot_cells.CellPlot(simu,figsize=8,cmap=plt.cm.hsv,\n                 plot_pixels=True,plot_scat=True,plot_quiv=False,plot_boundary=False,\n                 scat_size=15,scat_color='k',\n                 plot_type=\"scatter\",void_color='tab:grey')"
      ]
    },
    {
      "cell_type": "markdown",
      "metadata": {},
      "source": [
        "<div class=\"alert alert-info\"><h4>Note</h4><p>The `plot_type` for cropped domain should be `scatter` and `imshow` for the full unit cube.</p></div>\n\n<div class=\"alert alert-info\"><h4>Note</h4><p>Currently, the option `plot_boundary` which plots the boundary of the cells is a bit slow.</p></div>\n\n"
      ]
    },
    {
      "cell_type": "markdown",
      "metadata": {},
      "source": [
        "Let us now assume that the particles simply fall down, with a constant force defined by\n\n"
      ]
    },
    {
      "cell_type": "code",
      "execution_count": null,
      "metadata": {
        "collapsed": false
      },
      "outputs": [],
      "source": [
        "F = torch.zeros((1,dim))\nF[0,-1] = -0.5"
      ]
    },
    {
      "cell_type": "markdown",
      "metadata": {},
      "source": [
        "The gradient step in factor of the incompressibilty force is set to \n\n"
      ]
    },
    {
      "cell_type": "code",
      "execution_count": null,
      "metadata": {
        "collapsed": false
      },
      "outputs": [],
      "source": [
        "tau = 3.0/R0 if dim==2 else 3.0/(R0**2)"
      ]
    },
    {
      "cell_type": "markdown",
      "metadata": {},
      "source": [
        "We need to define some time-stepping parameters\n\n"
      ]
    },
    {
      "cell_type": "code",
      "execution_count": null,
      "metadata": {
        "collapsed": false
      },
      "outputs": [],
      "source": [
        "T = 3.0    # Simulation time \ndt = 0.002   # Time step \nplot_every = 150    # Do not plot all the time steps \nt = 0.0    # Time counter \nt_iter = 0    # Counter of iterations \nt_plot = 0    # Counter of plots"
      ]
    },
    {
      "cell_type": "markdown",
      "metadata": {},
      "source": [
        "We simply loop over time. \n\n"
      ]
    },
    {
      "cell_type": "code",
      "execution_count": null,
      "metadata": {
        "collapsed": false
      },
      "outputs": [],
      "source": [
        "solver.n_lloyds = 1   #\u00a0Only one epoch is enough since we make small time steps. \n\nwhile t<T:\n    print(\"--------------------------\",flush=True)\n    print(f\"t={t}\",flush=True)\n    print(\"--------------------------\",flush=True)\n    \n    plotting_time = t_iter%plot_every==0\n    print(\"I plot.\",flush=True) if plotting_time else print(\"I do not plot.\",flush=True)\n                \n    F_inc = solver.lloyd_step(simu,\n                sinkhorn_algo=OT.LBFGSB,\n                tau=tau,\n                to_bary=False,\n                show_progress=False,\n                default_init=False,bsr=True)\n\n    simu.x += F*dt + F_inc*dt   # Sum the incompressibility force and the gravity force. \n    \n    print(f\"Maximal incompressibility force: {torch.max(torch.norm(F_inc,dim=1))}\",flush=True)\n    \n    if plotting_time:\n        simu_plot.update_plot(simu)\n        simu_plot.fig\n        t_plot += 1\n    \n    t += dt\n    t_iter += 1"
      ]
    }
  ],
  "metadata": {
    "kernelspec": {
      "display_name": "Python 3",
      "language": "python",
      "name": "python3"
    },
    "language_info": {
      "codemirror_mode": {
        "name": "ipython",
        "version": 3
      },
      "file_extension": ".py",
      "mimetype": "text/x-python",
      "name": "python",
      "nbconvert_exporter": "python",
      "pygments_lexer": "ipython3",
      "version": "3.10.14"
    }
  },
  "nbformat": 4,
  "nbformat_minor": 0
}