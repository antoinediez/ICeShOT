{
  "cells": [
    {
      "cell_type": "markdown",
      "metadata": {},
      "source": [
        "\n# Crowd evacuation\n\nIn this experiment, particles represent pedestrians in a crowd who all wish to escape a room via a single exit point located at the center of the right edge of the room.\n\nParticles are subject to a self-propulsion force, with or without noise, and the incompressibility force associated to the power cost\n\n\\begin{align}c(x,y) = |y-x|^p\\end{align}\nwhere the parameter $p$ tunes the deformability. \n\nWith $p=0.5$ particles are highly deformable and manage to escape the room.\n\n.. video:: ../_static/SMV14_Evacuation_p05.mp4\n    :autoplay:\n    :loop:\n    :muted:\n    :width: 400\n    \n|\n\nWith $p=8$ particles behave as hard-spheres and end up in a congested state, forming a stable arch around the exit door.\n\n.. video:: ../_static/SMV15_Evacuation_p8.mp4\n    :autoplay:\n    :loop:\n    :muted:\n    :width: 400\n    \n|\n\n**Related reference**\n\nB. Maury, A. Roudneff-Chupin, F. Santambrogio, and J. Venel. \u201cHandling Congestion in Crowd Motion Modeling\u201d. Networks & Heterogeneous Media 6.3 (2011)\n"
      ]
    },
    {
      "cell_type": "code",
      "execution_count": null,
      "metadata": {
        "collapsed": false
      },
      "outputs": [],
      "source": [
        "# sphinx_gallery_thumbnail_path = '_static/evacuation_1.png'\n\nimport os \nimport sys\nsys.path.append(\"..\")\nimport pickle\nimport math\nimport torch\nimport numpy as np\nfrom matplotlib import colors\nfrom matplotlib.colors import ListedColormap\nfrom iceshot import cells\nfrom iceshot import costs\nfrom iceshot import OT\nfrom iceshot.OT import OT_solver\nfrom iceshot import plot_cells\nfrom iceshot import sample\nfrom iceshot import utils\n\nuse_cuda = torch.cuda.is_available()\nif use_cuda:\n    torch.set_default_tensor_type(\"torch.cuda.FloatTensor\")\n    device = \"cuda\"\n\n# ot_algo = OT.sinkhorn_zerolast\not_algo = OT.LBFGSB\n\np = 8\n\nsimu_name = \"simu_Evacuation\" + \"_\" + str(p)\nos.mkdir(simu_name)\nos.mkdir(simu_name+\"/frames\")\nos.mkdir(simu_name+\"/data\")\n\nbase_color = colors.to_rgb('tab:blue')\ncmap = utils.cmap_from_list(1000,0,0,color_names=[\"tab:blue\",\"tab:orange\",\"tab:gray\"])\n\nN = 111\nM = 512\n\nseeds = torch.rand((N,2))\nsource = sample.sample_grid(M)\nvol_x = 0.42*torch.ones(N)/N\n\nsimu = cells.Cells(\n    seeds=seeds,source=source,\n    vol_x=vol_x,extra_space=\"void\",\n    bc=None\n)\n\ncost_params = {\n    \"p\" : p,\n    \"scaling\" : \"volume\",\n    \"R\" : simu.R_mean,\n    \"C\" : 0.1\n}\n\nsolver = OT_solver(\n    n_sinkhorn=800,n_sinkhorn_last=2000,n_lloyds=10,s0=2.0,\n    cost_function=costs.power_cost,cost_params=cost_params\n)\n\nT = 15.0\n# T = 5.0\ndt = 0.001\nplot_every = 5\nt = 0.0\nt_iter = 0\nt_plot = 0\nv0 = 0.4\ndiff = 0.2\ntau = 3.0/simu.R_mean\n# cap = 2**(p-1)\ncap = None\n\ndef kill(simu,who,solver=solver,cost_matrix=None):\n    who_p = torch.cat((who,torch.zeros(1,dtype=bool,device=who.device)))\n    simu.x = simu.x[~who]\n    simu.f_x = simu.f_x[~who_p]\n    simu.volumes[-1] += simu.volumes[who_p].sum()\n    simu.volumes = simu.volumes[~who_p]\n    simu.axis = simu.axis[~who]\n    simu.ar = simu.ar[~who]\n    simu.orientation = simu.orientation[~who]\n    simu.N_cells -= int(who.sum().item())\n    simu.labels[torch.isin(simu.labels,torch.where(who)[0])] = simu.x.shape[0] + 42\n    \nexit = torch.tensor([[1.0,0.5]])\n    \nsimu.axis = (exit - simu.x)/torch.norm(exit - simu.x,dim=1).reshape((simu.N_cells,1))\n\n#======================= INITIALISE ========================#\n\nsolver.solve(simu,\n             sinkhorn_algo=ot_algo,cap=cap,\n             tau=1.0,\n             to_bary=True,\n             show_progress=False)\n\nsimu_plot = plot_cells.CellPlot(simu,figsize=8,cmap=cmap,\n                 plot_pixels=True,plot_scat=True,plot_quiv=False,plot_boundary=True,\n                 scat_size=15,scat_color='k',\n                 r=None,K=5,boundary_color='k',\n                 plot_type=\"imshow\",void_color='w')\n\nquiv = simu_plot.ax.quiver(M*simu.x[:simu.N_cells,0].cpu(),M*simu.x[:simu.N_cells,1].cpu(),simu.axis[:simu.N_cells,0].cpu(),simu.axis[:simu.N_cells,1].cpu(),color='r',pivot='tail',zorder=2.5)\nexplot = simu_plot.ax.scatter(M*exit[:,0].cpu(),M*exit[:,1].cpu(),s=60,c='r',zorder=2.5)\n\nsimu_plot.fig.savefig(simu_name + \"/frames/\" + f\"t_{t_plot}.png\")\n\nquiv.remove()\n\nwith open(simu_name + \"/data/\" + f\"data_{t_plot}.pkl\",'wb') as file:\n    pickle.dump(simu,file)\n    \nt += dt\nt_iter += 1\nt_plot += 1\n\nsolver.n_lloyds = 1\nsolver.cost_params[\"p\"] = p\n\nwith open(simu_name + f\"/params.pkl\",'wb') as file:\n    pickle.dump(solver,file)\n\n#=========================== RUN ===========================#\n\nwhile t<T:\n    print(\"--------------------------\",flush=True)\n    print(f\"t={t}\",flush=True)\n    print(\"--------------------------\",flush=True)\n    \n    plotting_time = t_iter%plot_every==0\n    \n    if plotting_time:\n        print(\"I plot.\",flush=True)\n        solver.n_sinkhorn_last = 2000\n        solver.n_sinkhorn = 2000\n        solver.s0 = 2.0\n    else:\n        print(\"I do not plot.\",flush=True)\n        solver.n_sinkhorn_last = 250\n        solver.n_sinkhorn = 250\n        solver.s0 = 2*simu.R_mean\n    \n    F_inc = solver.lloyd_step(simu,\n                sinkhorn_algo=ot_algo,cap=cap,\n                tau=tau,\n                to_bary=False,\n                show_progress=False,\n                default_init=False)\n    \n    F_evacuation = (exit - simu.x)/torch.norm(exit - simu.x,dim=1).reshape((simu.N_cells,1))\n    \n    inRd =  F_evacuation*dt + math.sqrt(2*diff*dt)*torch.randn((simu.N_cells,2))\n    simu.axis += inRd - (simu.axis * inRd).sum(1).reshape((simu.N_cells,1)) * simu.axis\n    simu.axis /= torch.norm(simu.axis,dim=1).reshape((simu.N_cells,1))\n    simu.x += v0*simu.axis*dt + F_inc*dt\n    \n    print(f\"Maximal incompressibility force: {torch.max(torch.norm(F_inc,dim=1))}\")\n    print(f\"Average force: {torch.norm(v0*F_evacuation + F_inc,dim=1).mean()}\")\n    \n    kill_index = (simu.x[:,0]>1.0-1.02*simu.R_mean) & (simu.x[:,1] < 0.5+1.05*simu.R_mean) & (simu.x[:,1] > 0.5-1.05*simu.R_mean)\n    print(f\"Exit: {kill_index.sum().item()}\")\n    \n    kill(simu,kill_index)\n    \n    if plotting_time:\n        simu_plot.update_plot(simu)\n        quiv = simu_plot.ax.quiver(M*simu.x[:simu.N_cells,0].cpu(),M*simu.x[:simu.N_cells,1].cpu(),simu.axis[:simu.N_cells,0].cpu(),simu.axis[:simu.N_cells,1].cpu(),color='r',pivot='tail',zorder=2.5)\n        simu_plot.fig.savefig(simu_name + \"/frames/\" + f\"t_{t_plot}.png\")\n        quiv.remove()\n        with open(simu_name + \"/data/\" + f\"data_{t_plot}.pkl\",'wb') as file:\n            pickle.dump(simu,file)\n        t_plot += 1\n\n    t += dt\n    t_iter += 1\n    \n\nutils.make_video(simu_name=simu_name,video_name=simu_name)"
      ]
    }
  ],
  "metadata": {
    "kernelspec": {
      "display_name": "Python 3",
      "language": "python",
      "name": "python3"
    },
    "language_info": {
      "codemirror_mode": {
        "name": "ipython",
        "version": 3
      },
      "file_extension": ".py",
      "mimetype": "text/x-python",
      "name": "python",
      "nbconvert_exporter": "python",
      "pygments_lexer": "ipython3",
      "version": "3.10.14"
    }
  },
  "nbformat": 4,
  "nbformat_minor": 0
}