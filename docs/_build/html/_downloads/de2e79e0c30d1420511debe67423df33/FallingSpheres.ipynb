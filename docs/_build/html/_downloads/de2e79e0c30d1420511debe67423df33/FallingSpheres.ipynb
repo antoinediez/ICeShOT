{
  "cells": [
    {
      "cell_type": "markdown",
      "metadata": {},
      "source": [
        "\n# Falling soft spheres in 2D\n\n\nWith $p=0.75$\n\n.. video:: ../_static/SMV4_FallingSpheres_p075.mp4\n    :autoplay:\n    :loop:\n    :muted:\n    :width: 400\n    \n|\n\nWith $p=2$\n\n.. video:: ../_static/SMV5_FallingSpheres_p2.mp4\n    :autoplay:\n    :loop:\n    :muted:\n    :width: 400\n    \n|\n\nWith $p=10$\n\n.. video:: ../_static/SMV6_FallingSpheres_p10.mp4\n    :autoplay:\n    :loop:\n    :muted:\n    :width: 400\n    \n|\n\n\nWith $\\tau_o=8$ and $\\tau_b=3$\n\n.. video:: ../_static/SMV7_FallingSpheres_tau8.mp4\n    :autoplay:\n    :loop:\n    :muted:\n    :width: 400\n    \n|\n\nWith $\\tau_o=3$ and $\\tau_b=3$\n\n.. video:: ../_static/SMV8_FallingSpheres_tau3.mp4\n    :autoplay:\n    :loop:\n    :muted:\n    :width: 400\n    \n|\n\nWith $\\tau_o=1$ and $\\tau_b=3$\n\n.. video:: ../_static/SMV9_FallingSpheres_tau1.mp4\n    :autoplay:\n    :loop:\n    :muted:\n    :width: 400\n    \n|\n"
      ]
    },
    {
      "cell_type": "code",
      "execution_count": null,
      "metadata": {
        "collapsed": false
      },
      "outputs": [],
      "source": [
        "# sphinx_gallery_thumbnail_path = '_static/FallingSpheres_softheavy.png'\n\nimport os \nimport sys\nsys.path.append(\"..\")\nimport pickle\nimport torch\nimport numpy as np\nfrom matplotlib import colors\nfrom matplotlib.colors import ListedColormap\nfrom iceshot import cells\nfrom iceshot import costs\nfrom iceshot import OT\nfrom iceshot.OT import OT_solver\nfrom iceshot import plot_cells\nfrom iceshot import sample\nfrom iceshot import utils\n\nuse_cuda = torch.cuda.is_available()\nif use_cuda:\n    torch.set_default_tensor_type(\"torch.cuda.FloatTensor\")\n    device = \"cuda\"\n\n# ot_algo = OT.sinkhorn_zerolast\not_algo = OT.LBFGSB\n\np_b = 10\ntau_b = 1.5\np_o = 1\ntau_o = 3\n\n# simu_name = \"simu_FallingSpheres\" + \"_p\" + str(p_o) + \"_tau\" + str(tau_o) \nsimu_name = \"simu_FallingSpheres\" + \"_p\" + str(p_b) + \"_b\"\nos.mkdir(simu_name)\nos.mkdir(simu_name+\"/frames\")\nos.mkdir(simu_name+\"/data\")\n\n\nN = 30\n# N = 42\n# N1 = 21\nN1 = N\nN2 = N - N1\nM = 512\n# M = 300\n\ncmap = utils.cmap_from_list(N1,N2,0,color_names=[\"tab:blue\",\"tab:orange\",\"tab:gray\"])\n\nseeds = torch.rand((N,2))\nsource = sample.sample_grid(M)\n# vol_x = 0.5*torch.ones(N)/N\nvol_x = 0.3*torch.ones(N)/N\n\nsimu = cells.Cells(\n    seeds=seeds,source=source,\n    vol_x=vol_x,extra_space=\"void\"\n)\n\np = torch.ones(N)\np[:N1] = p_b\np[N1:] = p_o\np0 = 6\ncost_params = {\n    \"p\" : p0,\n    \"scaling\" : \"volume\",\n    \"R\" : simu.R_mean,\n    \"C\" : 1.0/(p0+2)\n}\n\nsolver = OT_solver(\n    n_sinkhorn=300,n_sinkhorn_last=3000,n_lloyds=14,\n    cost_function=costs.power_cost,cost_params=cost_params\n)\n\nT = 10.0\ndt = 0.001\nplot_every = 5\nt = 0.0\nt_iter = 0\nt_plot = 0\nF = torch.tensor([[0.0,-0.4]])\n# F = torch.tensor([[0.0,-0.25]])\ntau = torch.ones(N)/simu.R_mean\ntau[:N1] *= tau_b\n# tau[:N1] *= 1.0\ntau[N1:] *= tau_o\n# cap = 2**(p0-1)\ncap = None\n\n#======================= INITIALISE ========================#\n\nsolver.solve(simu,\n             sinkhorn_algo=ot_algo,cap=cap,\n             tau=1.0,\n             to_bary=True,\n             show_progress=False)\n\nsimu_plot = plot_cells.CellPlot(simu,figsize=8,cmap=cmap,\n                 plot_pixels=True,plot_scat=True,plot_quiv=False,plot_boundary=True,\n                 scat_size=15,scat_color='k',\n                 r=None,K=5,boundary_color='k',\n                 plot_type=\"imshow\",void_color='w')\n\nsimu_plot.fig.savefig(simu_name + \"/frames/\" + f\"t_{t_plot}.png\")\n\nwith open(simu_name + \"/data/\" + f\"data_{t_plot}.pkl\",'wb') as file:\n    pickle.dump(simu,file)\n    \nt += dt\nt_iter += 1\nt_plot += 1\n\nsolver.n_lloyds = 1\nsolver.cost_params[\"p\"] = p\n\nwith open(simu_name + f\"/params.pkl\",'wb') as file:\n    pickle.dump(solver,file)\n\n#=========================== RUN ===========================#\n\nwhile t<T:\n    print(\"--------------------------\",flush=True)\n    print(f\"t={t}\",flush=True)\n    print(\"--------------------------\",flush=True)\n    \n    plotting_time = t_iter%plot_every==0\n    \n    if plotting_time:\n        print(\"I plot.\",flush=True)\n        solver.n_sinkhorn_last = 3000\n        solver.n_sinkhorn = 3000\n        solver.s0 = 2.0\n        \n    else:\n        print(\"I do not plot.\",flush=True)\n        solver.n_sinkhorn_last = 400\n        solver.n_sinkhorn = 400\n        solver.s0 = 2.3*simu.R_mean\n    \n    F_inc = solver.lloyd_step(simu,\n                sinkhorn_algo=ot_algo,cap=cap,\n                tau=tau,\n                to_bary=False,\n                show_progress=False,\n                default_init=False)\n    \n    simu.x += F*dt + F_inc*dt\n    \n    print(torch.max(torch.norm(F_inc,dim=1)))\n    \n    if plotting_time:\n        simu_plot.update_plot(simu)\n        simu_plot.fig.savefig(simu_name + \"/frames/\" + f\"t_{t_plot}.png\")\n        with open(simu_name + \"/data/\" + f\"data_{t_plot}.pkl\",'wb') as file:\n            pickle.dump(simu,file)\n        t_plot += 1\n\n    t += dt\n    t_iter += 1\n    \nutils.make_video(simu_name=simu_name,video_name=simu_name)"
      ]
    }
  ],
  "metadata": {
    "kernelspec": {
      "display_name": "Python 3",
      "language": "python",
      "name": "python3"
    },
    "language_info": {
      "codemirror_mode": {
        "name": "ipython",
        "version": 3
      },
      "file_extension": ".py",
      "mimetype": "text/x-python",
      "name": "python",
      "nbconvert_exporter": "python",
      "pygments_lexer": "ipython3",
      "version": "3.10.14"
    }
  },
  "nbformat": 4,
  "nbformat_minor": 0
}