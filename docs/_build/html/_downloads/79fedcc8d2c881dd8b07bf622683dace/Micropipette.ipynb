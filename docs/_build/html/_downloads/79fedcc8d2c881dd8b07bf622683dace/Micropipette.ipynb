{
  "cells": [
    {
      "cell_type": "markdown",
      "metadata": {},
      "source": [
        "\n# Micropipette experiment\n\nViscoelastic properties of individual biological cells are often quantified using micropipette aspiration techniques: a single cell is first placed at the tip of a thin micropipette tube and a controlled pressure difference then creates an aspiration force which sucks the cell inside the micropipette. \nThe biomechanical properties are quantitatively evaluated by measuring the portion of the cell that effectively travels through the tube. \nThis aspiration length ranges from zero for solid-like cell to the full tube for liquid-like cells. \nThis experiment can be mimicked in silico by considering a micropipette-shaped domain and, for a given set of fixed parameters (cell size, micropipette width, force magnitude \u03c4i), increasing the value of the deformability parameter $\\alpha$ in the power cost\n\n\\begin{align}c(x,y) = |y-x|^\\alpha\\end{align}\n\n\nIncreasing $\\alpha$ lets us interpolate between liquid and solid particles.\n\n\n.. video:: ../_static/SMV10_Micropipette.mp4\n    :autoplay:\n    :loop:\n    :muted:\n    :width: 400\n    \n|\n"
      ]
    },
    {
      "cell_type": "code",
      "execution_count": null,
      "metadata": {
        "collapsed": false
      },
      "outputs": [],
      "source": [
        "# sphinx_gallery_thumbnail_path = '_static/Micropipette_eq.png'\n\n\nimport os \nimport sys\nsys.path.append(\"..\")\nimport math\nimport pickle\nimport torch\nimport numpy as np\nfrom matplotlib import pyplot as plt\nfrom matplotlib import colors\nfrom matplotlib.colors import ListedColormap\nfrom iceshot import cells\nfrom iceshot import costs\nfrom iceshot import OT\nfrom iceshot.OT import OT_solver\nfrom iceshot import plot_cells\nfrom iceshot import sample\nfrom iceshot import utils\n\nuse_cuda = torch.cuda.is_available()\nif use_cuda:\n    torch.set_default_tensor_type(\"torch.cuda.FloatTensor\")\n    device = \"cuda\"\n\n# ot_algo = OT.sinkhorn_zerolast\not_algo = OT.LBFGSB\n    \nsimu_name = \"simu_Micropipette\"\nos.mkdir(simu_name)\n\nradius = 0.08\nvol0 = math.pi*radius**2\n    \nh_tube = radius/2.0\nl_tube = vol0/h_tube\nx0 = 1 - l_tube\n\ndef crop_function(x):\n    return (torch.abs(x[:,0] - (1-0.5*l_tube))<=0.5*l_tube).float()*(torch.abs(x[:,1] - 0.5)<=0.5*h_tube).float() + (torch.abs(x[:,1] - 0.5)<=3.0*radius).float()*(torch.abs(x[:,0] - (1 - l_tube - 1.05*radius))<=1.05*radius).float()\n\nscale = l_tube*h_tube + 2*1.05*radius*2*3.0*radius\n\nN_cells = 1\nM_grid = 800\nvol_grid_true = 1.0/(M_grid**2)\n\ndim = 2\nsource = sample.sample_cropped_domain(crop_function,M_grid)\nseeds = torch.tensor([\n        [1-l_tube-radius,0.5],\n        ])\n\nvol = vol0/scale\nvol_x = torch.tensor([vol])\n\np_all = [0.5,0.75,1.0,1.5,2.0,2.5,3.0,4.0]\nv_all = [0.5]\n\ndata = []\n\ncmap = utils.cmap_from_list(100,color_names=[\"k\"])\n\n\nfor iv0 in range(len(v_all)):\n    v0 = v_all[iv0]\n    os.mkdir(simu_name + f\"/v0_{v0}\")\n    \n    T = l_tube/v0\n    fig_graph, ax_graph = plt.subplots(figsize=(8,8))\n    ax_graph.set_xlim(0,1.0)\n    ax_graph.set_ylim(0,1.0)\n    \n    for ip in range(len(p_all)):\n        p = p_all[ip]\n        dir_name = simu_name + f\"/v0_{v0}\" + f\"/p_{p}\"\n        os.mkdir(dir_name)\n        os.mkdir(dir_name + \"/frames\")\n        \n        print(\"===================================================\")\n        print(f\"p={p}\")\n        print(f\"v0={v0}\")\n        print(\"===================================================\")\n        \n        simu = cells.Cells(\n            seeds=seeds,source=source,\n            vol_x=vol_x,extra_space=\"void\"\n        )\n        \n        print(vol_grid_true/simu.vol_grid)\n        \n        cost_params = {\n            \"p\" : p,\n            \"scaling\" : \"volume\",\n            \"R\" : radius,\n            \"C\" : 1.0\n        }\n        \n        solver = OT_solver(\n            n_sinkhorn=300,n_sinkhorn_last=3000,n_lloyds=10,\n            cost_function=costs.power_cost,cost_params=cost_params\n        )\n\n        simu.axis[0,:] = torch.tensor([1.0,0.0])\n\n        t_all = []\n        x_all = []\n        t = 0.0\n        t_iter = 0\n        t_plot = 0\n        dt = 0.005\n\n        solver.solve(simu,\n             sinkhorn_algo=ot_algo,cap=None,\n             tau=0.0,\n             to_bary=True,\n             show_progress=False)\n\n        t_all.append(0.0)\n        x_all.append((torch.max(simu.y[simu.labels==0,0]).item()-x0)/l_tube)\n        data.append({\"t\" : t_all,\n                     \"x\" : x_all,\n                     \"p\" : p,\n                     \"v0\" : v0}\n                    )\n        pickle.dump(data,open(simu_name+\"/data.p\",\"wb\"))\n        graph, = ax_graph.plot(t_all,x_all,'*')\n        fig_graph.savefig(simu_name + f\"/v0_{v0}\" + \"/graph.png\")\n\n        simu_plot = plot_cells.CellPlot(simu,figsize=8,cmap=cmap,\n            plot_pixels=True,plot_scat=True,plot_quiv=True,plot_boundary=False,\n            scat_size=15,scat_color='k',\n            r=None,K=5,boundary_color='k',\n            plot_type=\"scatter\",void_color=plt.cm.bone(0.75),M_grid=M_grid)\n\n        simu_plot.fig.savefig(dir_name + \"/frames/\" + f\"t_{t_plot}.png\")\n\n        t += dt\n        t_iter += 1\n        t_plot += 1\n\n        while t<=T: \n            print(\"--------\",flush=True)\n            print(f\"t={t}\",flush=True)\n            \n            solver.n_sinkhorn_last = 2000\n            solver.n_sinkhorn = 2000\n            solver.s0 = 2.0\n            \n            print(solver.cost)\n            print(solver.cost_params)\n            \n            F_inc = solver.lloyd_step(simu,\n                sinkhorn_algo=ot_algo,cap=None,\n                tau=0.3/radius * vol_grid_true/simu.vol_grid,\n                to_bary=False,\n                show_progress=False,\n                default_init=False)\n    \n            simu.x += v0*simu.axis*dt + F_inc*dt\n            \n            print(f\"Maximal incompressibility force: {torch.max(torch.norm(F_inc,dim=1))}\")\n            \n            t_all.append(t/T)\n            x_all.append((torch.max(simu.y[simu.labels==0,0]).item()-x0)/l_tube)\n            data[-1] = {\"t\" : t_all,\n                        \"x\" : x_all,\n                        \"p\" : p,\n                        \"v0\" : v0}\n            pickle.dump(data,open(simu_name+\"/data.p\",\"wb\"))\n            graph.set_xdata(t_all)\n            graph.set_ydata(x_all)\n            fig_graph.savefig(simu_name + f\"/v0_{v0}\" + \"/graph.png\")\n            \n            simu_plot.update_plot(simu)\n            simu_plot.fig.savefig(dir_name + \"/frames/\" + f\"t_{t_plot}.png\")\n            t_plot += 1\n            \n            # if (len(x_all)>101):\n            #     if (abs((x_all[-1] - x_all[-100])) < 0.001):\n            #         break\n            t += dt\n            t_iter += 1\n            \n            print(\"--------\\n\",flush=True)\n            \n        utils.make_video(simu_name=dir_name,video_name=\"v0_\" + str(v0) + \"_p_\" + str(p))"
      ]
    }
  ],
  "metadata": {
    "kernelspec": {
      "display_name": "Python 3",
      "language": "python",
      "name": "python3"
    },
    "language_info": {
      "codemirror_mode": {
        "name": "ipython",
        "version": 3
      },
      "file_extension": ".py",
      "mimetype": "text/x-python",
      "name": "python",
      "nbconvert_exporter": "python",
      "pygments_lexer": "ipython3",
      "version": "3.10.14"
    }
  },
  "nbformat": 4,
  "nbformat_minor": 0
}