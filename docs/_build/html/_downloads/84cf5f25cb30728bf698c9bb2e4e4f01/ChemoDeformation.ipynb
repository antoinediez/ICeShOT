{
  "cells": [
    {
      "cell_type": "markdown",
      "metadata": {},
      "source": [
        "\n# Chemotaxis induced by deformations\n\nWe consider a chemo-attractant density $u(x)$ and we assume that a particle located at $x$ can sense the local gradient along the directions ${x}-{x}_i$ (defined through a finite difference formula). \nThe only force is the incompresisbility force. We introduce the biased cost potential $\u000barphi = -\\log c$\n\n\\begin{align}\\varphi({x},{x}_i) = \\varphi_0({x},{x}_i) + \\beta f\\left(\\frac{u({x} - u({x}_i)}{x - x_i}\\right),\\end{align}\nwith the base potential $\\varphi_0(x,y) = -2\\log |x - y|$, a constant $\\beta>0$ and a function $f$ which models how the gradient affects the deformation.\n\nWith $f(\\delta)= \\max(0,\\delta)$, particles move with an elongated shape. \n\n.. video:: ../_static/SMV17_ChemoDeformation_long.mp4\n    :autoplay:\n    :loop:\n    :muted:\n    :width: 400\n    \n|\n\nWith $f(\\delta)=  \\max(0,-\\delta)^2 + \\max(0,\\delta)$, particles move with a fan-like shape. \n\n\n.. video:: ../_static/SMV18_ChemoDeformation_fan.mp4\n    :autoplay:\n    :loop:\n    :muted:\n    :width: 400\n    \n|\n\n**Related reference**\n\nL. Yang, J. C. Effler, B. L. Kutscher, S. E. Sullivan, D. N. Robinson, and P. A. Iglesias. \u201cModeling Cellular Deformations Using the Level Set Formalism\u201d. BMC Syst. Biol. 2.1 (2008)\n"
      ]
    },
    {
      "cell_type": "code",
      "execution_count": null,
      "metadata": {
        "collapsed": false
      },
      "outputs": [],
      "source": [
        "# sphinx_gallery_thumbnail_path = '_static/ChemoDeformation_long.png'\n\nimport os \nimport sys\nsys.path.append(\"..\")\nimport pickle\nimport math\nimport torch\nimport numpy as np\nfrom matplotlib import pyplot as plt\nfrom matplotlib import colors\nfrom matplotlib.colors import ListedColormap\nfrom iceshot import cells\nfrom iceshot import costs\nfrom iceshot import OT\nfrom iceshot.OT import OT_solver\nfrom iceshot import plot_cells\nfrom iceshot import sample\nfrom iceshot import utils\nfrom iceshot.cells import DataPoints\nfrom pykeops.torch import LazyTensor\nfrom tqdm import tqdm \n\nuse_cuda = torch.cuda.is_available()\nif use_cuda:\n    torch.set_default_tensor_type(\"torch.cuda.FloatTensor\")\n    device = \"cuda\"\n\n# ot_algo = OT.sinkhorn_zerolast\not_algo = OT.LBFGSB\n\nsimu_name = \"simu_ChemoDeformation\"\nos.mkdir(simu_name)\nos.mkdir(simu_name+\"/frames\")\nos.mkdir(simu_name+\"/data\")\n\nN = 10\nM = 512 \n\nseeds = torch.rand((N,2))\nsource = sample.sample_grid(M)\nvol_x = torch.ones(N)\nvol_x *= 0.1/vol_x.sum()\n\nR0 = math.sqrt(vol_x[-1].item()/math.pi)\n\nsimu = cells.Cells(\n    seeds=seeds,source=source,\n    vol_x=vol_x,extra_space=\"void\",\n    bc=None\n)\n\np = 2\ncost_params = {\n    \"p\" : p,\n    \"scaling\" : \"volume\",\n    \"R\" : math.sqrt(simu.volumes[0].item()/math.pi)\n}\n\nsolver = OT_solver(\n    n_sinkhorn=300,n_sinkhorn_last=1000,n_lloyds=10,s0=2.0,\n    cost_function=costs.l2_cost,cost_params=cost_params\n)\n\ndef density(x,s=0.2,d=2):\n    return 1/(2*math.pi*(s**2))**(d/2) * torch.exp(-((x-0.5)**2).sum(1)/(2*s**2))\n\nx = y = torch.linspace(0.5/M,1-0.5/M,M)\nZ = torch.zeros((M,M))\nfor i in range(M):\n    for j in range(M):\n        Z[i,j] = density(torch.tensor([[x[i],y[j]]]))\n\n\ndef lazy_grad(dx,dy,XY):\n    lazy_dx = LazyTensor(dx[:,None,None])\n    lazy_dy = LazyTensor(dy[None,:,None])\n    return (lazy_dy - lazy_dx)/(XY ** 2).sum(-1).sqrt()\n\n\ncmap = utils.cmap_from_list(N,color_names=[\"tab:blue\"])\n\nT = 10.0\ndt = 0.01\nplot_every = 1\nt = 0.0\nt_iter = 0\nt_plot = 0\n\nFinc0 = 0.6\nFpro0 = 1.6\namp_decay = 1.2\ndiff = 14.0\n#======================= INITIALISE ========================#\n\ntau0 = 1.0\nsolver.solve(simu,\n             sinkhorn_algo=ot_algo,cap=None,\n             tau=tau0,\n             to_bary=True,\n             show_progress=False)\n\nsimu_plot = plot_cells.CellPlot(simu,figsize=8,cmap=cmap,\n                 plot_pixels=True,plot_scat=True,plot_quiv=False,plot_boundary=True,\n                 scat_size=15,scat_color='k',\n                 r=None,K=5,boundary_color='k',\n                 plot_type=\"imshow\",void_color='w')\n\nchemo = simu_plot.ax.imshow(Z.cpu().numpy().transpose(),origin='lower', cmap=plt.cm.magma,alpha=0.6)\n\n#====================== RUN =================================#\n\n\nwhile t<T: \n    print(\"--------\",flush=True)\n    print(f\"t={t}\",flush=True)\n    \n    \n    plotting_time = t_iter%plot_every==0\n    \n    if plotting_time:\n        print(\"I plot.\",flush=True)\n        solver.n_sinkhorn_last = 2000\n        solver.n_sinkhorn = 2000\n        solver.s0 = 1.5\n        di = False\n    else:\n        print(\"I do not plot.\",flush=True)\n        solver.n_sinkhorn_last = 300\n        solver.n_sinkhorn = 300\n        solver.s0 = 2*simu.R_mean\n        di = False\n        \n        \n    XY = simu.lazy_XY()\n    dx = density(simu.x)\n    dy = density(simu.y)\n    grad = lazy_grad(dx,dy,XY)\n    # bias_lazy = (-0.02*grad.relu()**2).exp()    # elongated shape\n    # bias_lazy = (-0.2*grad).exp()\n    bias_lazy = (0.02*((-grad).relu()**2 + (grad.relu()))).exp()    # fan-like shape\n\n    cost,grad_cost = solver.cost_matrix(simu)\n        \n    F_inc = solver.lloyd_step(simu,\n            cost_matrix=(cost*bias_lazy,grad_cost),\n            sinkhorn_algo=ot_algo,cap=None,\n            tau=1/simu.R_mean,\n            to_bary=True,weight=1.0,\n            show_progress=False,\n            default_init=False)\n    \n    simu.x += F_inc * dt\n    \n    if plotting_time:\n        simu_plot.update_plot(simu)\n        simu_plot.fig\n        simu_plot.fig.savefig(simu_name + \"/frames/\" + f\"t_{t_plot}.png\")\n        with open(simu_name + \"/data/\" + f\"data_{t_plot}.pkl\",'wb') as file:\n            pickle.dump(simu,file)\n\n        t_plot += 1\n\n    t += dt\n    t_iter += 1\n    \nutils.make_video(simu_name=simu_name,video_name=simu_name)"
      ]
    }
  ],
  "metadata": {
    "kernelspec": {
      "display_name": "Python 3",
      "language": "python",
      "name": "python3"
    },
    "language_info": {
      "codemirror_mode": {
        "name": "ipython",
        "version": 3
      },
      "file_extension": ".py",
      "mimetype": "text/x-python",
      "name": "python",
      "nbconvert_exporter": "python",
      "pygments_lexer": "ipython3",
      "version": "3.10.14"
    }
  },
  "nbformat": 4,
  "nbformat_minor": 0
}