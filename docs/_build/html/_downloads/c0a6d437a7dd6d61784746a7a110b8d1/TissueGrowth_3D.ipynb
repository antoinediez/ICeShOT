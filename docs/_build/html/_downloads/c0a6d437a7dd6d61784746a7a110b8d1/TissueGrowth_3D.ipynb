{
  "cells": [
    {
      "cell_type": "markdown",
      "metadata": {},
      "source": [
        "\n# Growth of a 3D cell aggregate\n\nWe consider a 3D cell aggregate growing according to a basic somatic cell cycle.\nStarting from one cell, each cell grows at a linear speed until a target volume is reached, then it \ndivides after a random exponential time producing two daughter cells with identical half volumes.\n\nWe keep a constant resolution throughout the simulation by progressibely zooming out as the aggregate grows. \n\n.. video:: ../../_static/TissueGrowth_3D.mp4\n    :autoplay:\n    :loop:\n    :muted:\n    :width: 400\n    \n|\n"
      ]
    },
    {
      "cell_type": "code",
      "execution_count": null,
      "metadata": {
        "collapsed": false
      },
      "outputs": [],
      "source": [
        "# sphinx_gallery_thumbnail_path = '_static/tissue_growth_3D.png'\n\n\nimport os \nimport sys\nsys.path.append(\"..\")\nimport time\nimport pickle\nimport math\nimport torch\nimport numpy as np\nfrom matplotlib import colors\nfrom matplotlib.colors import ListedColormap\nfrom iceshot import cells\nfrom iceshot import costs\nfrom iceshot import OT\nfrom iceshot.OT import OT_solver\nfrom iceshot import plot_cells\nfrom iceshot import sample\nfrom iceshot import utils\nimport tifffile as tif\n\n\nuse_cuda = torch.cuda.is_available()\nif use_cuda:\n    torch.set_default_tensor_type(\"torch.cuda.FloatTensor\")\n    device = \"cuda\"\n\np = 2\n\not_algo = OT.LBFGSB\n\nsimu_name = \"simu_TissueGrowth_3D\"\nos.mkdir(simu_name)\nos.mkdir(simu_name+\"/frames\")\nos.mkdir(simu_name+\"/data\")\n\nNmax = 50000\nN = 1\nM = 400\nR1 = 0.15\nvol1 = 4./3. * math.pi * (R1**3)\nvol0 = 0.5*vol1\ncnt = torch.tensor([[0.5,0.5,0.5]])\n\nvol1_end = 1.0/Nmax\nR1_end = (vol1_end/(4./3.*math.pi)) ** (1./3.)\nscale = R1_end/R1\n\nseeds = torch.tensor([[0.5,0.5,0.5]])\nsource = sample.sample_grid(M,dim=3)\nvol_x = vol1*torch.ones(N)\n\nsimu = cells.Cells(\n    seeds=seeds,source=source,\n    vol_x=vol_x,extra_space=\"void\",\n    bc=None\n)\n\ncost_params = {\n    \"p\" : p,\n    \"scaling\" : \"volume\",\n    \"R\" : simu.R_mean,\n    \"C\" : 0.1\n}\n\nsolver = OT_solver(\n    n_sinkhorn=300,n_sinkhorn_last=1000,n_lloyds=4,s0=2.0,\n    cost_function=costs.l2_cost,cost_params=cost_params\n)\n\ndt = 0.002\nplot_every = 3\nt = 0.0\nt_iter = 0\nt_plot = 0\ngrowth_rate = 6.0*(vol1-vol0)\ngrowth_rate_factor = 0.5 + 1.5*torch.rand(simu.N_cells)\ndiv_rate = 3.0\ncap = None\n\ndef insert(x,ind,elem1,elem2):\n    sh = list(x.shape)\n    sh[0] += 1\n    new_x = torch.zeros(sh)\n    new_x[:ind] = x[:ind]\n    new_x[(ind+2):] = x[(ind+1):]\n    new_x[ind] = elem1\n    new_x[ind+1] = elem2\n    return new_x\n\ndef sample_unit(N,d):\n    x = torch.randn((N,d))\n    x /= torch.norm(x,dim=1).reshape((N,1))\n    return x\n\ndef divide(simu,ind,R1):\n    simu.x = insert(simu.x,ind,simu.x[ind]-0.5*R1*simu.axis[ind],simu.x[ind]+0.5*R1*simu.axis[ind])\n    simu.axis = insert(simu.axis,ind,sample_unit(1,simu.d),sample_unit(1,simu.d))\n    simu.ar = insert(simu.ar,ind,1.0,1.0)\n    simu.orientation = simu.orientation_from_axis()\n    simu.N_cells += 1\n    simu.volumes = insert(simu.volumes,ind,0.5*simu.volumes[ind],0.5*simu.volumes[ind])\n    simu.f_x = insert(simu.f_x,ind,simu.f_x[ind],simu.f_x[ind])\n\ntotal_vol = simu.volumes[:-1].sum().item()\n\ndata = {\n    \"N\" : [1],\n    \"T\" : [0.0],\n    \"vol\" : [total_vol],\n    \"scale\" : [scale]\n}\n#======================= INITIALISE ========================#\n\nsolver.solve(simu,\n             sinkhorn_algo=ot_algo,cap=cap,\n             tau=0.7,\n             to_bary=True,\n             show_progress=False,\n             default_init=False,\n             stopping_criterion=\"average\",\n             tol=0.01)\n    \nt += dt\nt_iter += 1\nt_plot += 1\n\nsolver.n_lloyds = 1\nsolver.cost_params[\"p\"] = p\n\n#=========================== RUN ===========================#\n\nstime = time.time()\n\nwhile True:\n    print(\"--------------------------\",flush=True)\n    print(f\"t={t}\",flush=True)\n    print(f\"N={simu.N_cells}\",flush=True)\n    print(f\"V={total_vol}\",flush=True)\n    print(\"--------------------------\",flush=True)\n    \n    plotting_time = t_iter%plot_every==0\n    \n    if plotting_time:\n        print(\"I plot.\",flush=True)\n        solver.n_sinkhorn_last = 200\n        solver.n_sinkhorn = 200\n    else:\n        print(\"I do not plot.\",flush=True)\n        solver.n_sinkhorn_last = 200\n        solver.n_sinkhorn = 200\n        \n    simu.volumes[:-1] += growth_rate_factor * growth_rate*dt\n    simu.volumes[:-1] = torch.minimum(simu.volumes[:-1],torch.tensor([vol1]))\n    simu.volumes[-1] = 1.0 - simu.volumes[:-1].sum()\n    \n    who_divide = (simu.volumes[:-1] > 0.8*vol1) & (torch.rand(simu.N_cells) > math.exp(-dt*div_rate)) & (torch.max(torch.abs(simu.x - cnt),dim=1)[0] < 0.5 - R1) \n    \n    for ind,who in enumerate(who_divide):\n        if who:\n            if simu.N_cells<=Nmax:\n                divide(simu,ind,R1)\n                growth_rate_factor = insert(growth_rate_factor,ind,growth_rate_factor[ind],0.5+1.5*torch.rand(1))\n    \n    F_inc = solver.lloyd_step(simu,\n                sinkhorn_algo=ot_algo,cap=cap,\n                tau=10.0/(R1**2),\n                to_bary=False,\n                show_progress=False,\n                default_init=False,\n                stopping_criterion=\"average\",\n                tol=0.01)\n        \n    simu.x += F_inc*dt\n    \n    print(f\"Maximal incompressibility force: {torch.max(torch.norm(F_inc,dim=1))}\")\n    \n    simu.labels[simu.labels==torch.max(simu.labels)] = -100.0\n    \n    total_vol = simu.volumes[:-1].sum().item()\n    R_m = 1.1 * (total_vol/(4./3.*math.pi)) ** (1./3.)\n    ratio = min(1.0,0.3/R_m)\n    print(f\"RATIO={ratio}\",flush=True)\n    new_scale = min(1.0,1/ratio * scale)\n    ratio = scale/new_scale\n    simu.x = cnt + ratio*(simu.x - cnt)\n    vol0 *= ratio**3\n    vol1 *= ratio**3\n    R1 *= ratio\n    simu.R_mean *= ratio\n    simu.volumes[:-1] *= ratio**3\n    simu.volumes[-1] = 1.0 - simu.volumes[:-1].sum()\n    scale = new_scale\n    print(f\"SCALE={scale}\",flush=True)\n        \n    if plotting_time:        \n        tif.imsave(simu_name + \"/frames/\"+f\"t_{t_plot}.tif\", simu.labels.reshape(M,M,M).cpu().numpy(), bigtiff=True)\n        t_plot += 1\n        data[\"N\"].append(simu.N_cells)\n        data[\"T\"].append(time.time() - stime)\n        data[\"vol\"].append(total_vol)\n        data[\"scale\"].append(scale)\n        pickle.dump(data,open(simu_name+\"/data.p\",\"wb\"))\n        if total_vol>0.9999 and simu.N_cells>Nmax:\n            with open(simu_name + \"/data/data_final.pkl\",'wb') as file:\n                pickle.dump(simu,file)\n            break\n\n    t += dt\n    t_iter += 1"
      ]
    }
  ],
  "metadata": {
    "kernelspec": {
      "display_name": "Python 3",
      "language": "python",
      "name": "python3"
    },
    "language_info": {
      "codemirror_mode": {
        "name": "ipython",
        "version": 3
      },
      "file_extension": ".py",
      "mimetype": "text/x-python",
      "name": "python",
      "nbconvert_exporter": "python",
      "pygments_lexer": "ipython3",
      "version": "3.10.14"
    }
  },
  "nbformat": 4,
  "nbformat_minor": 0
}