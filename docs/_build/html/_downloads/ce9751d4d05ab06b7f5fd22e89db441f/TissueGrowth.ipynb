{
  "cells": [
    {
      "cell_type": "markdown",
      "metadata": {},
      "source": [
        "\n# Growth of a 2D cell aggregate\n\n.. video:: ../_static/SMV3_TissueGrowth.mp4\n    :autoplay:\n    :loop:\n    :muted:\n    :width: 400\n    \n|\n"
      ]
    },
    {
      "cell_type": "code",
      "execution_count": null,
      "metadata": {
        "collapsed": false
      },
      "outputs": [],
      "source": [
        "# sphinx_gallery_thumbnail_path = '_static/TissueGrowth_t442.png'\n\nimport os \nimport sys\nsys.path.append(\"..\")\nimport pickle\nimport math\nimport torch\nimport numpy as np\nfrom matplotlib import colors\nfrom matplotlib.colors import ListedColormap\nfrom iceshot import cells\nfrom iceshot import costs\nfrom iceshot import OT\nfrom iceshot.OT import OT_solver\nfrom iceshot import plot_cells\nfrom iceshot import sample\nfrom iceshot import utils\n\nuse_cuda = torch.cuda.is_available()\nif use_cuda:\n    torch.set_default_tensor_type(\"torch.cuda.FloatTensor\")\n    device = \"cuda\"\n\np = 2\n\n# ot_algo = OT.sinkhorn_zerolast\not_algo = OT.LBFGSB\n\nsimu_name = \"simu_TissueGrowth\"\nos.mkdir(simu_name)\nos.mkdir(simu_name+\"/frames\")\nos.mkdir(simu_name+\"/data\")\n\ncmap = utils.cmap_from_list(1000,color_names=[\"tab:blue\"])\n\nN = 1\nM = 800\nNmax = 400\nvol0 = 0.5*0.75/Nmax\nvol1 = 0.75/Nmax\nR1 = math.sqrt(vol1/math.pi)\n\nseeds = torch.tensor([[0.5,0.5]])\nsource = sample.sample_grid(M)\nvol_x = torch.tensor([vol1])\n\nsimu = cells.Cells(\n    seeds=seeds,source=source,\n    vol_x=vol_x,extra_space=\"void\",\n    bc=None\n)\n\ncost_params = {\n    \"p\" : p,\n    \"scaling\" : \"volume\",\n    \"R\" : simu.R_mean,\n    \"C\" : 0.1\n}\n\nsolver = OT_solver(\n    n_sinkhorn=300,n_sinkhorn_last=1000,n_lloyds=4,s0=2.0,\n    cost_function=costs.l2_cost,cost_params=cost_params\n)\n\nT = 30.0\n# T = 5.0\ndt = 0.01\nplot_every = 1\nt = 0.0\nt_iter = 0\nt_plot = 0\ngrowth_rate = (vol1-vol0)/0.5\ngrowth_rate_factor = 0.5 + 1.5*torch.rand(simu.N_cells)\ndiv_rate = 5.0\ncap = None\n\ndef insert(x,ind,elem1,elem2):\n    sh = list(x.shape)\n    sh[0] += 1\n    new_x = torch.zeros(sh)\n    new_x[:ind] = x[:ind]\n    new_x[(ind+2):] = x[(ind+1):]\n    new_x[ind] = elem1\n    new_x[ind+1] = elem2\n    return new_x\n\ndef sample_unit(N,d):\n    x = torch.randn((N,d))\n    x /= torch.norm(x,dim=1).reshape((N,1))\n    return x\n\ndef divide(simu,ind,R1):\n    simu.x = insert(simu.x,ind,simu.x[ind]-0.5*R1*simu.axis[ind],simu.x[ind]+0.5*R1*simu.axis[ind])\n    simu.axis = insert(simu.axis,ind,sample_unit(1,simu.d),sample_unit(1,simu.d))\n    simu.ar = insert(simu.ar,ind,1.0,1.0)\n    simu.orientation = simu.orientation_from_axis()\n    simu.N_cells += 1\n    simu.volumes = insert(simu.volumes,ind,0.5*simu.volumes[ind],0.5*simu.volumes[ind])\n    simu.f_x = insert(simu.f_x,ind,simu.f_x[ind],simu.f_x[ind])\n        \n\ndef kill(simu,who,solver=solver,cost_matrix=None):\n    who_p = torch.cat((who,torch.zeros(1,dtype=bool,device=who.device)))\n    simu.x = simu.x[~who]\n    simu.f_x = simu.f_x[~who_p]\n    simu.volumes[-1] += simu.volumes[who_p].sum()\n    simu.volumes = simu.volumes[~who_p]\n    simu.axis = simu.axis[~who]\n    simu.ar = simu.ar[~who]\n    simu.orientation = simu.orientation[~who]\n    simu.N_cells -= int(who.sum().item())\n    simu.labels[torch.isin(simu.labels,torch.where(who)[0])] = simu.x.shape[0] + 42\n    \nexit = torch.tensor([[0.5,0.5]])\n#======================= INITIALISE ========================#\n\nsolver.solve(simu,\n             sinkhorn_algo=ot_algo,cap=cap,\n             tau=0.0,\n             to_bary=True,\n             show_progress=False)\n\nsimu_plot = plot_cells.CellPlot(simu,figsize=8,cmap=cmap,\n                 plot_pixels=True,plot_scat=True,plot_quiv=False,plot_boundary=True,\n                 scat_size=5,scat_color='k',\n                 r=None,K=5,boundary_color='k',\n                 plot_type=\"imshow\",void_color='w')\n\nsimu_plot.fig.savefig(simu_name + \"/frames/\" + f\"t_{t_plot}.png\")\n\n\nwith open(simu_name + \"/data/\" + f\"data_{t_plot}.pkl\",'wb') as file:\n    pickle.dump(simu,file)\n    \nt += dt\nt_iter += 1\nt_plot += 1\n\nsolver.n_lloyds = 1\nsolver.cost_params[\"p\"] = p\n\nwith open(simu_name + f\"/params.pkl\",'wb') as file:\n    pickle.dump(solver,file)\n\n#=========================== RUN ===========================#\n\nwhile t<T:\n    print(\"--------------------------\",flush=True)\n    print(f\"t={t}\",flush=True)\n    print(\"--------------------------\",flush=True)\n    \n    plotting_time = t_iter%plot_every==0\n    \n    if plotting_time:\n        print(\"I plot.\",flush=True)\n        solver.n_sinkhorn_last = 2000\n        solver.n_sinkhorn = 2000\n        solver.s0 = 2.0\n    else:\n        print(\"I do not plot.\",flush=True)\n        solver.n_sinkhorn_last = 250\n        solver.n_sinkhorn = 250\n        solver.s0 = 2*simu.R_mean\n        \n    simu.volumes[:-1] += growth_rate_factor * growth_rate*dt\n    simu.volumes[:-1] = torch.minimum(simu.volumes[:-1],torch.tensor([vol1]))\n    simu.volumes[-1] = 1.0 - simu.volumes[:-1].sum()\n    \n    who_divide = (simu.volumes[:-1] > 0.8*vol1) & (torch.rand(simu.N_cells) > math.exp(-dt*div_rate))\n    \n    for ind,who in enumerate(who_divide):\n        if who:\n            if simu.N_cells<=Nmax:\n                divide(simu,ind,R1)\n                growth_rate_factor = insert(growth_rate_factor,ind,growth_rate_factor[ind],0.5+1.5*torch.rand(1))\n    \n    F_inc = solver.lloyd_step(simu,\n                sinkhorn_algo=ot_algo,cap=cap,\n                tau=1.0/torch.sqrt(simu.volumes[:-1]/math.pi),\n                to_bary=False,\n                show_progress=False,\n                default_init=False)\n    \n    F_evacuation = (exit - simu.x)/(torch.norm(exit - simu.x,dim=1).reshape((simu.N_cells,1)) + 1e-6)\n    \n    simu.x += F_inc*dt + 0.2*F_evacuation*dt\n    \n    try:\n        cov = simu.covariance_matrix()\n        cov /= torch.sqrt(torch.det(cov).reshape((simu.N_cells,1,1)))\n        L,Q = torch.linalg.eigh(cov)\n        axis = Q[:,:,-1]\n        axis = (axis * simu.axis).sum(1).sign().reshape((simu.N_cells,1)) * axis\n        simu.axis = axis\n        simu.orientation = simu.orientation_from_axis()\n    except:\n        pass\n    \n    print(f\"Maximal incompressibility force: {torch.max(torch.norm(F_inc,dim=1))}\")\n        \n    if plotting_time:\n        simu_plot.update_plot(simu)\n        simu_plot.fig.savefig(simu_name + \"/frames/\" + f\"t_{t_plot}.png\")\n        with open(simu_name + \"/data/\" + f\"data_{t_plot}.pkl\",'wb') as file:\n            pickle.dump(simu,file)\n        t_plot += 1\n\n    t += dt\n    t_iter += 1\n    \n\nutils.make_video(simu_name=simu_name,video_name=simu_name)"
      ]
    }
  ],
  "metadata": {
    "kernelspec": {
      "display_name": "Python 3",
      "language": "python",
      "name": "python3"
    },
    "language_info": {
      "codemirror_mode": {
        "name": "ipython",
        "version": 3
      },
      "file_extension": ".py",
      "mimetype": "text/x-python",
      "name": "python",
      "nbconvert_exporter": "python",
      "pygments_lexer": "ipython3",
      "version": "3.10.14"
    }
  },
  "nbformat": 4,
  "nbformat_minor": 0
}