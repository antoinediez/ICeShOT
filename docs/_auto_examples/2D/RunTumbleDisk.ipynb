{
  "cells": [
    {
      "cell_type": "markdown",
      "metadata": {},
      "source": [
        "\n# Run-and-tumble in 2D with soft spheres in a disk domain\n\n.. video:: ../../_static/SMV2_RunTumbleDisk.mp4\n    :autoplay:\n    :loop:\n    :muted:\n    :width: 400\n    \n|\n"
      ]
    },
    {
      "cell_type": "code",
      "execution_count": null,
      "metadata": {
        "collapsed": false
      },
      "outputs": [],
      "source": [
        "# sphinx_gallery_thumbnail_path = '_static/RunTumbleDisk.png'\n\n\nimport os \nimport sys\nsys.path.append(\"..\")\nimport pickle\nimport math\nimport torch\nimport numpy as np\nfrom matplotlib import pyplot as plt\nfrom matplotlib import colors\nfrom matplotlib.colors import ListedColormap\nfrom iceshot import cells\nfrom iceshot import costs\nfrom iceshot import OT\nfrom iceshot.OT import OT_solver\nfrom iceshot import plot_cells\nfrom iceshot import sample\nfrom iceshot import utils\nfrom iceshot.cells import DataPoints\nfrom pykeops.torch import LazyTensor\nfrom tqdm import tqdm \n\nuse_cuda = torch.cuda.is_available()\nif use_cuda:\n    torch.set_default_tensor_type(\"torch.cuda.FloatTensor\")\n    device = \"cuda\"\n    \n# ot_algo = OT.sinkhorn_zerolast\not_algo = OT.LBFGSB\n    \nsimu_name = \"simu_RunTumbleDisk\"\nos.mkdir(simu_name)\nos.mkdir(simu_name+\"/frames\")\nos.mkdir(simu_name+\"/data\")\n\nN = 126\nM = 512 \n\ncnt = torch.tensor([[0.5,0.5]])\nr_sq = 0.45**2 * torch.rand((N,1))\nth = 2*math.pi * torch.rand((N,1))\n\nseeds = cnt + torch.sqrt(r_sq) * torch.cat((torch.cos(th),torch.sin(th)),dim=1)\n\ndef disk(x):\n    return ((0.5**2 - ((x - torch.tensor([[0.5,0.5]]))**2).sum(1))>0.0).float()\n\n# source = sample.sample_grid(M)\nsource = sample.sample_cropped_domain(disk,M)\nvol_x = torch.ones(N)\nvol_x *= 0.875/vol_x.sum()\n\nR0 = math.sqrt(vol_x[-1].item()/math.pi)\n\nsimu = cells.Cells(\n    seeds=seeds,source=source,\n    vol_x=vol_x,extra_space=\"void\",\n    bc=None\n)\n\neng = torch.linspace(0.4,3.5,N)\n\nT = 10.0\ndt = 0.0025\nplot_every = 4\nt = 0.0\nt_iter = 0\nt_plot = 0\n\nFinc0 = 0.2\njump_rate = 1.0\nv0 = 0.4\n\n\n#======================= INITIALISE ========================#\n\n\ncost_params = {\n    \"scaling\" : \"volume\",\n    \"R\" : math.sqrt(simu.volumes[0].item()/math.pi),\n    \"C\" : 1.0\n}\n\nsolver = OT_solver(\n    n_sinkhorn=300,n_sinkhorn_last=3000,n_lloyds=5,s0=2.0,\n    cost_function=costs.l2_cost,cost_params=cost_params\n)\n\ncap = None\n\nsolver.solve(simu,\n             sinkhorn_algo=ot_algo,cap=cap,\n             tau=1.0,\n             to_bary=True,\n             show_progress=False)\n\n\ncost_params = {\n    \"scaling\" : \"volume\",\n    \"R\" : math.sqrt(simu.volumes[0].item()/math.pi),\n    \"C\" : eng\n}\n\nsolver = OT_solver(\n    n_sinkhorn=300,n_sinkhorn_last=3000,n_lloyds=5,s0=1.0,\n    cost_function=costs.l2_cost,cost_params=cost_params\n)\n\ncap = None\n\nsolver.solve(simu,\n             sinkhorn_algo=ot_algo,cap=cap,\n             tau=1.0,\n             to_bary=True,\n             show_progress=False,\n             default_init=False)\n\n# cmap = plt.cm.bone_r\n# cmap = colors.LinearSegmentedColormap.from_list(\"trucated\",cmap(np.linspace(0.1, 0.9, 100)))\nclrs = [colors.to_rgb('w'), colors.to_rgb('xkcd:prussian blue')] # first color is black, last is red\ncmap = colors.LinearSegmentedColormap.from_list(\n        \"Custom\", clrs, N=1000)\n\ncmap = colors.LinearSegmentedColormap.from_list(\"trucated\",cmap(np.linspace(0.2, 1.0, 1000)))\n\nsimu_plot = plot_cells.CellPlot(simu,figsize=8,cmap=cmap,\n                 plot_pixels=True,plot_scat=True,plot_quiv=True,plot_boundary=True,\n                 scat_size=15,scat_color='k',\n                 r=None,K=5,boundary_color='k',\n                 plot_type=\"scatter\",void_color='w',M_grid=M)\n\nalp = np.zeros(N)\nalp[1] = 1.0\nalp[-1] = 1.0\nalp[int(0.25*N)] = 1.0\nalp[int(0.5*N)] = 1.0\nalp[int(0.75*N)] = 1.0\n\nsimu_plot.plots[\"quiv\"].set(alpha=alp)\n\n\nsimu_plot.ax.plot(M*(0.5+0.5*np.cos(2*math.pi*np.linspace(0,1,100))),M*(0.5+0.5*np.sin(2*math.pi*np.linspace(0,1,100))),color='k',linewidth=3.0)\n\n#=========================== RUN ===========================#\n\nwhile t<T:\n    print(\"--------------------------\",flush=True)\n    print(f\"t={t}\",flush=True)\n    print(\"--------------------------\",flush=True)\n\n    plotting_time = t_iter%plot_every==0\n    \n    if plotting_time:\n        print(\"I plot.\",flush=True)\n        solver.n_sinkhorn_last = 3000\n        solver.n_sinkhorn = 3000\n        solver.s0 = 1.5\n        di = False\n    else:\n        print(\"I do not plot.\",flush=True)\n        solver.n_sinkhorn_last = 300\n        solver.n_sinkhorn = 300\n        solver.s0 = 2*simu.R_mean\n        di = False\n        \n    F_inc = solver.lloyd_step(simu,\n            sinkhorn_algo=ot_algo,cap=cap,\n            tau=1.0/simu.R_mean,\n            to_bary=False,\n            show_progress=False,\n            default_init=di)\n    \n    simu.x +=  v0*simu.axis*dt + Finc0*F_inc*dt\n    \n    who_jumps = torch.rand(N) > math.exp(-jump_rate*dt)\n    simu.axis[who_jumps,:] = torch.randn((who_jumps.sum(),2))\n    simu.axis[who_jumps,:] /= torch.norm(simu.axis[who_jumps,:],dim=1).reshape((who_jumps.sum(),1))\n    \n    if plotting_time:\n        simu_plot.update_plot(simu)\n        simu_plot.fig\n        simu_plot.fig.savefig(simu_name + \"/frames/\" + f\"t_{t_plot}.png\")\n        with open(simu_name + \"/data/\" + f\"data_{t_plot}.pkl\",'wb') as file:\n            pickle.dump(simu,file)\n\n        t_plot += 1\n    \n    t += dt\n    t_iter += 1\n    \nutils.make_video(simu_name=simu_name,video_name=simu_name)"
      ]
    }
  ],
  "metadata": {
    "kernelspec": {
      "display_name": "Python 3",
      "language": "python",
      "name": "python3"
    },
    "language_info": {
      "codemirror_mode": {
        "name": "ipython",
        "version": 3
      },
      "file_extension": ".py",
      "mimetype": "text/x-python",
      "name": "python",
      "nbconvert_exporter": "python",
      "pygments_lexer": "ipython3",
      "version": "3.10.14"
    }
  },
  "nbformat": 4,
  "nbformat_minor": 0
}