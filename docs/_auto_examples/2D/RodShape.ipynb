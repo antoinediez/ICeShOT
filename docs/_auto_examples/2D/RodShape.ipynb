{
  "cells": [
    {
      "cell_type": "markdown",
      "metadata": {},
      "source": [
        "\n# Emergence of alignment in a system of active rod-shaped particles\n\nWe consider a system of rod-shaped particles defined by their positions $x_i$ and active directions of motion $n_i$. \nEach $n_i$ is defined at each time step as the maximal eigenvector associated to the PCA of the Laguerre cell (with the correct sign to avoid flipping).\nThe collisions between particles thus lead to a local re-orientation process and eventually to the emergence of a globally aligned state. \n\n\n.. video:: ../../_static/SMV16_RodShape.mp4\n    :autoplay:\n    :loop:\n    :muted:\n    :width: 400\n    \n|\n"
      ]
    },
    {
      "cell_type": "code",
      "execution_count": null,
      "metadata": {
        "collapsed": false
      },
      "outputs": [],
      "source": [
        "# sphinx_gallery_thumbnail_path = '_static/RodShape_t3000.png'\n\n\nimport os \nimport sys\nsys.path.append(\"..\")\nimport pickle\nimport math\nimport torch\nimport numpy as np\nfrom matplotlib import colors\nfrom matplotlib.colors import ListedColormap\nfrom iceshot import cells\nfrom iceshot import costs\nfrom iceshot import OT\nfrom iceshot.OT import OT_solver\nfrom iceshot import plot_cells\nfrom iceshot import sample\nfrom iceshot import utils\n\nuse_cuda = torch.cuda.is_available()\nif use_cuda:\n    torch.set_default_tensor_type(\"torch.cuda.FloatTensor\")\n    device = \"cuda\"\n    \n# ot_algo = OT.sinkhorn_zerolast\not_algo = OT.LBFGSB\n    \nsimu_name = \"simu_RodShape\"\nos.mkdir(simu_name)\nos.mkdir(simu_name+\"/frames\")\nos.mkdir(simu_name+\"/data\")\n\nN = 300\nM = 512\n\nseeds = torch.rand((N,2))\nsource = sample.sample_grid(M)\nvol_x = 0.65*torch.ones(N)/N\n\nar = 3.0\nsimu = cells.Cells(\n    seeds=seeds,source=source,\n    vol_x=vol_x,extra_space=\"void\",\n    ar=ar,bc=\"periodic\"\n)\n\np = 3.5\ncost_params = {\n    \"p\" : p,\n    \"scaling\" : \"volume\",\n    \"b\" : math.sqrt(simu.volumes[0].item()/(math.pi + 4*(ar-1))),\n    \"C\" : 1.0\n}\n\nsolver = OT_solver(\n    n_sinkhorn=300,n_sinkhorn_last=3000,n_lloyds=20,s0=2.0,\n    cost_function=costs.spherocylinders_2_cost,cost_params=cost_params\n)\n\nT = 30.0\ndt = 0.002\nplot_every = 4\nt = 0.0\nt_iter = 0\nt_plot = 0\nv0 = 0.3\ntau = torch.ones(N)/simu.R_mean\ntau *= 0.14\n# tau = torch.ones(N)\n# tau *= 10.0\ncap = None\n\ncmap = utils.cmap_from_list(N,0,0,color_names=[\"tab:blue\",\"tab:blue\",\"tab:blue\"])\n\n#======================= INITIALISE ========================#\n\nsolver.solve(simu,\n             sinkhorn_algo=ot_algo,cap=cap,\n             tau=1.0,\n             to_bary=True,\n             show_progress=False,weight=1.0)\n\nsimu_plot = plot_cells.CellPlot(simu,figsize=8,cmap=cmap,\n                 plot_pixels=True,plot_scat=True,plot_quiv=False,plot_boundary=True,\n                 scat_size=15,scat_color='k',\n                 r=None,K=5,boundary_color='k',\n                 plot_type=\"imshow\",void_color='w')\n\nsimu_plot.fig.savefig(simu_name + \"/frames/\" + f\"t_{t_plot}.png\")\n\nwith open(simu_name + \"/data/\" + f\"data_{t_plot}.pkl\",'wb') as file:\n    pickle.dump(simu,file)\n    \nt += dt\nt_iter += 1\nt_plot += 1\n\nsolver.n_lloyds = 1\nsolver.cost_params[\"p\"] = p\n\nwith open(simu_name + f\"/params.pkl\",'wb') as file:\n    pickle.dump(solver,file)\n\n#=========================== RUN ===========================#\n\nwhile t<T:\n    print(\"--------------------------\",flush=True)\n    print(f\"t={t}\",flush=True)\n    print(\"--------------------------\",flush=True)\n    \n    plotting_time = t_iter%plot_every==0\n    \n    if plotting_time:\n        print(\"I plot.\",flush=True)\n        solver.n_sinkhorn_last = 3000\n        solver.n_sinkhorn = 3000\n        solver.s0 = 1.0\n    else:\n        print(\"I do not plot.\",flush=True)\n        solver.n_sinkhorn_last = 300\n        solver.n_sinkhorn = 300\n        solver.s0 = simu.R_mean\n    \n    F_inc = solver.lloyd_step(simu,\n                sinkhorn_algo=ot_algo,cap=cap,\n                tau=tau,\n                to_bary=False,\n                show_progress=False,\n                default_init=False)\n    \n    simu.x += v0*simu.axis*dt + F_inc*dt\n        \n    cov = simu.covariance_matrix()\n    cov /= torch.sqrt(torch.det(cov).reshape((simu.N_cells,1,1)))\n    L,Q = torch.linalg.eigh(cov)\n    axis = Q[:,:,-1]\n    axis = (axis * simu.axis).sum(1).sign().reshape((simu.N_cells,1)) * axis\n    simu.axis = axis\n    simu.orientation = simu.orientation_from_axis()\n    \n    simu.x = torch.remainder(simu.x,1)\n\n    print(torch.max(torch.norm(F_inc,dim=1)))\n    \n    if plotting_time:\n        simu_plot.update_plot(simu)\n        simu_plot.fig.savefig(simu_name + \"/frames/\" + f\"t_{t_plot}.png\")\n        with open(simu_name + \"/data/\" + f\"data_{t_plot}.pkl\",'wb') as file:\n            pickle.dump(simu,file)\n        t_plot += 1\n\n    t += dt\n    t_iter += 1\n    \nutils.make_video(simu_name=simu_name,video_name=simu_name)"
      ]
    }
  ],
  "metadata": {
    "kernelspec": {
      "display_name": "Python 3",
      "language": "python",
      "name": "python3"
    },
    "language_info": {
      "codemirror_mode": {
        "name": "ipython",
        "version": 3
      },
      "file_extension": ".py",
      "mimetype": "text/x-python",
      "name": "python",
      "nbconvert_exporter": "python",
      "pygments_lexer": "ipython3",
      "version": "3.10.14"
    }
  },
  "nbformat": 4,
  "nbformat_minor": 0
}