{
  "cells": [
    {
      "cell_type": "markdown",
      "metadata": {},
      "source": [
        "\n# Random protrusions\n\n.. video:: ../../_static/SMV19_Protrusions.mp4\n    :autoplay:\n    :loop:\n    :muted:\n    :width: 400\n    \n|\n"
      ]
    },
    {
      "cell_type": "code",
      "execution_count": null,
      "metadata": {
        "collapsed": false
      },
      "outputs": [],
      "source": [
        "# sphinx_gallery_thumbnail_path = '_static/random_protrusions.png'\n\nimport os \nimport sys\nsys.path.append(\"..\")\nimport pickle\nimport math\nimport torch\nimport numpy as np\nfrom matplotlib import colors\nfrom matplotlib.colors import ListedColormap\nfrom iceshot import cells\nfrom iceshot import costs\nfrom iceshot import OT\nfrom iceshot.OT import OT_solver\nfrom iceshot import plot_cells\nfrom iceshot import sample\nfrom iceshot import utils\nfrom iceshot.cells import DataPoints\nfrom pykeops.torch import LazyTensor\nfrom tqdm import tqdm \n\nuse_cuda = torch.cuda.is_available()\nif use_cuda:\n    torch.set_default_tensor_type(\"torch.cuda.FloatTensor\")\n    device = \"cuda\"\n    \n# ot_algo = OT.sinkhorn_zerolast\not_algo = OT.LBFGSB\n    \nsimu_name = \"simu_Protrusions\"\nos.mkdir(simu_name)\nos.mkdir(simu_name+\"/frames\")\nos.mkdir(simu_name+\"/data\")\n\nN = 18\nM = 300 \n\nseeds = torch.rand((N,2))\nsource = sample.sample_grid(M)\nvol_x = torch.ones(N)\nvol_x *= 0.28/vol_x.sum()\n\nR0 = math.sqrt(vol_x[-1].item()/math.pi)\n\nsimu = cells.Cells(\n    seeds=seeds,source=source,\n    vol_x=vol_x,extra_space=\"void\",\n    bc=None\n)\n\np = 2\ncost_params = {\n    \"p\" : p,\n    \"scaling\" : \"volume\",\n    \"R\" : math.sqrt(simu.volumes[0].item()/math.pi)\n}\n\nsolver = OT_solver(\n    n_sinkhorn=300,n_sinkhorn_last=1000,n_lloyds=10,s0=2.0,\n    cost_function=costs.l2_cost,cost_params=cost_params\n)\n\nK_circ = 6\ndth = 2*math.pi/K_circ\nth = torch.arange(-math.pi,math.pi,step=dth)\nrandom_amplitude = 0.1*torch.rand((simu.N_crystals,K_circ)) \nlazy_th = LazyTensor(th[None,None,:])\nlazy_random = LazyTensor(random_amplitude[:,None,:])\n\ncmap = utils.cmap_from_list(N,color_names=[\"tab:blue\"])\n\nT = 10.0\ndt = 0.01\nplot_every = 1\nt = 0.0\nt_iter = 0\nt_plot = 0\n\nFinc0 = 0.6\nFpro0 = 1.6\namp_decay = 1.2\ndiff = 14.0\n#======================= INITIALISE ========================#\n\ntau0 = 1.0\nsolver.solve(simu,\n             sinkhorn_algo=ot_algo,cap=None,\n             tau=tau0,\n             to_bary=True,\n             show_progress=False)\n\nsimu_plot = plot_cells.CellPlot(simu,figsize=8,cmap=cmap,\n                 plot_pixels=True,plot_scat=True,plot_quiv=False,plot_boundary=True,\n                 scat_size=15,scat_color='k',\n                 r=None,K=5,boundary_color='k',\n                 plot_type=\"imshow\",void_color='w')\n\n\n#=========================== RUN ===========================#\n\nx0 = simu.x.detach().clone()\nth0 = torch.atan2(simu.axis[:,1],simu.axis[:,0])\nlazy_th0 = LazyTensor(th0[:,None,None])\n\npro = th0[:,None] + th[None,:]\nx_pro = (simu.x[:,0].reshape((simu.N_cells,1)) + R0*torch.cos(pro[:simu.N_cells]))\ny_pro = (simu.x[:,1].reshape((simu.N_cells,1)) + R0*torch.sin(pro[:simu.N_cells]))\n\nwhile t<T: \n    print(\"--------\",flush=True)\n    print(f\"t={t}\",flush=True)\n    \n    \n    plotting_time = t_iter%plot_every==0\n    \n    if plotting_time:\n        print(\"I plot.\",flush=True)\n        solver.n_sinkhorn_last = 2000\n        solver.n_sinkhorn = 2000\n        solver.s0 = 1.5\n        di = False\n    else:\n        print(\"I do not plot.\",flush=True)\n        solver.n_sinkhorn_last = 300\n        solver.n_sinkhorn = 300\n        solver.s0 = 2*simu.R_mean\n        di = False\n    \n    random_amplitude += 8.0 * dt * 2*(torch.rand((simu.N_crystals,K_circ)) - 0.5)\n    random_amplitude[:] = torch.min(torch.max(torch.tensor([0.0]),random_amplitude),torch.tensor([5.0*R0]))\n    XY = simu.lazy_XY()\n    atanXY = (XY[:,:,1].atan2(XY[:,:,0]) - lazy_th0).mod(2*math.pi,-math.pi)\n    bias_lazy = (-(((-(atanXY - lazy_th) ** 2 / 0.06).exp()/math.sqrt(math.pi*0.06)) * lazy_random).sum(-1)).exp()\n\n    cost,grad_cost = solver.cost_matrix(simu)\n    \n    F_inc = solver.lloyd_step(simu,\n            cost_matrix=(cost*bias_lazy,grad_cost),\n            sinkhorn_algo=ot_algo,cap=None,\n            tau=1.0/simu.R_mean,\n            to_bary=False,\n            show_progress=False,\n            default_init=di)\n    \n    arange = torch.arange(0,simu.N_cells,1)\n    pro = th0[:,None] + th[None,:]\n    x_pro = (simu.x[:,0].reshape((simu.N_cells,1)) + R0*torch.cos(pro[:simu.N_cells]))\n    y_pro = (simu.x[:,1].reshape((simu.N_cells,1)) + R0*torch.sin(pro[:simu.N_cells]))\n    \n    random_amplitude[:simu.N_cells][x_pro<0.01] = 0.0\n    random_amplitude[:simu.N_cells][x_pro>0.99] = 0.0\n    random_amplitude[:simu.N_cells][y_pro<0.01] = 0.0\n    random_amplitude[:simu.N_cells][y_pro>0.99] = 0.0\n    \n    XY = simu.lazy_XY()\n    am = simu.allocation_matrix()\n    out = (XY ** 2).sum(-1) - (R0 ** 2)\n    dist = (XY ** 2).sum(-1).sqrt() + 0.000001\n    force = K_circ * (XY/dist * out.relu().sqrt() * am).sum(1) / (0.0000001 + (out.step() * am).sum(1)).reshape((simu.N_crystals,1))\n    \n    simu.x += Finc0*F_inc*dt + Fpro0*force*dt\n    print(f\"Maximal protrusion force: {torch.max(torch.norm(Fpro0*force,dim=1))}\")\n    print(f\"Maximal incompressibility force: {torch.max(torch.norm(Finc0*F_inc,dim=1))}\")\n    print(f\"Average force: {torch.norm(Finc0*F_inc + Fpro0*force,dim=1).mean()}\")\n    \n    \n    random_amplitude[:] -= amp_decay*dt*random_amplitude[:]\n    \n    simu.axis += math.sqrt(2*diff*dt)*torch.randn((N,2))\n    simu.axis /= torch.norm(simu.axis,dim=1).reshape((N,1))\n    \n    if plotting_time:\n        simu_plot.update_plot(simu)            \n        simu_plot.fig\n        simu_plot.fig.savefig(simu_name + \"/frames/\" + f\"t_{t_plot}.png\")\n        with open(simu_name + \"/data/\" + f\"data_{t_plot}.pkl\",'wb') as file:\n            pickle.dump(simu,file)\n\n        t_plot += 1\n\n    t += dt\n    t_iter += 1\n    \nutils.make_video(simu_name=simu_name,video_name=simu_name)"
      ]
    }
  ],
  "metadata": {
    "kernelspec": {
      "display_name": "Python 3",
      "language": "python",
      "name": "python3"
    },
    "language_info": {
      "codemirror_mode": {
        "name": "ipython",
        "version": 3
      },
      "file_extension": ".py",
      "mimetype": "text/x-python",
      "name": "python",
      "nbconvert_exporter": "python",
      "pygments_lexer": "ipython3",
      "version": "3.10.14"
    }
  },
  "nbformat": 4,
  "nbformat_minor": 0
}