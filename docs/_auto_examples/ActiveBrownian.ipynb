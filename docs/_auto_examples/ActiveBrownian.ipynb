{
  "cells": [
    {
      "cell_type": "markdown",
      "metadata": {},
      "source": [
        "\n# Active Brownian Particles\n\nWe consider the motion of $N$ **active deformable spheres** in a periodic box with different deformability properties.\nThe particle are defined by their positions $x_i$ and Brownian active directions of motion $n_i$, which follow the following set of stochastic differential equations:\n\n\\begin{align}\\mathrm{d}{x}_i = c_0 {n}_i\\mathrm{d} t - \\tau\\nabla_{{x}_i}\\mathcal{T}_c(\\hat{\\mu})\\mathrm{d} t\\end{align}\n\n\\begin{align}\\mathrm{d}{n}_i = (\\mathrm{Id} - {n}_i{n}_i^\\mathrm{T})\\circ \\sqrt{2\\sigma}\\mathrm{d} B^i_t,\\end{align}\n\nThe incompressibility force $\\nabla_{{x}_i}\\mathcal{T}_c(\\hat{\\mu})$ is associated to the optimal transport cost\n\n\\begin{align}c(x,y) = |y-x|^p\\end{align}\nwhere the coefficient $p$ sets the deformability of the particles. Increasing $p$ leads to a transition from a liquid-like state to a crystal-like state.\n\n\nWith $p=0.5$, particles are easy to deform.\n\n.. video:: ../_static/SMV11_ActiveBrownian_p05.mp4\n    :autoplay:\n    :loop:\n    :muted:\n    :width: 400\n    \n|\n\nWith $p=2$, \n\n.. video:: ../_static/SMV12_ActiveBrownian_p2.mp4\n    :autoplay:\n    :loop:\n    :muted:\n    :width: 400\n    \n|\n\nWith $p=8$, particles behave as hard-spheres. \n\n.. video:: ../_static/SMV13_ActiveBrownian_p8.mp4\n    :autoplay:\n    :loop:\n    :muted:\n    :width: 400\n    \n|\n\n**Related references:**\n\nN. Saito and S. Ishihara. \u201cActive Deformable Cells Undergo Cell Shape Transition Associated with Percolation of Topological Defects\u201d, Science Advances 10.19 (2024)\n\nD. Bi, X. Yang, M. C. Marchetti, and M. L. Manning. \u201cMotility-Driven Glass and Jamming Transitions in Biological Tissues\u201d. Physical Review X 6.2 (2016)\n"
      ]
    },
    {
      "cell_type": "code",
      "execution_count": null,
      "metadata": {
        "collapsed": false
      },
      "outputs": [],
      "source": [
        "# sphinx_gallery_thumbnail_path = '_static/ActiveBrownian_p8.png'\n\nimport os \nimport sys\nsys.path.append(\"..\")\nimport pickle\nimport math\nimport torch\nimport numpy as np\nfrom matplotlib import colors\nfrom matplotlib.colors import ListedColormap\nfrom iceshot import cells\nfrom iceshot import costs\nfrom iceshot import OT\nfrom iceshot.OT import OT_solver\nfrom iceshot import plot_cells\nfrom iceshot import sample\nfrom iceshot import utils\n\nuse_cuda = torch.cuda.is_available()\nif use_cuda:\n    torch.set_default_tensor_type(\"torch.cuda.FloatTensor\")\n    device = \"cuda\"\n\n# ot_algo = OT.sinkhorn_zerolast\not_algo = OT.LBFGSB\n\np = 2.5\n\nsimu_name = \"simu_ActiveBrownian_p\" + str(p)\nos.mkdir(simu_name)\nos.mkdir(simu_name+\"/frames\")\nos.mkdir(simu_name+\"/data\")\n\nbase_color = colors.to_rgb('tab:blue')\ncmap = utils.cmap_from_list(1000,0,0,color_names=[\"tab:blue\",\"tab:orange\",\"tab:gray\"])\n\nN = 250\nM = 512\n\nseeds = torch.rand((N,2))\nsource = sample.sample_grid(M)\nvol_x = 0.94*torch.ones(N)/N\n\nsimu = cells.Cells(\n    seeds=seeds,source=source,\n    vol_x=vol_x,extra_space=\"void\",\n    bc=\"periodic\"\n)\n\ncost_params = {\n    \"p\" : p,\n    \"scaling\" : \"volume\",\n    \"R\" : simu.R_mean,\n    \"C\" : 0.1\n}\n\nsolver = OT_solver(\n    n_sinkhorn=800,n_sinkhorn_last=2000,n_lloyds=10,s0=2.0,\n    cost_function=costs.power_cost,cost_params=cost_params\n)\n\n# T = 12.0\nT = 5.0\ndt = 0.002\nplot_every = 5\nt = 0.0\nt_iter = 0\nt_plot = 0\nv0 = 0.3\ndiff = 20.0\ntau = torch.ones(N)/simu.R_mean\ntau *= 3.0\n# cap = 2**(p-1)\ncap = None\n\n#======================= INITIALISE ========================#\n\nsolver.solve(simu,\n             sinkhorn_algo=ot_algo,cap=cap,\n             tau=1.0,\n             to_bary=True,\n             show_progress=False)\n\nsimu_plot = plot_cells.CellPlot(simu,figsize=8,cmap=cmap,\n                 plot_pixels=True,plot_scat=True,plot_quiv=False,plot_boundary=True,\n                 scat_size=15,scat_color='k',\n                 r=None,K=5,boundary_color='k',\n                 plot_type=\"imshow\",void_color='w')\n\nsimu_plot.fig.savefig(simu_name + \"/frames/\" + f\"t_{t_plot}.png\")\n\nwith open(simu_name + \"/data/\" + f\"data_{t_plot}.pkl\",'wb') as file:\n    pickle.dump(simu,file)\n    \nt += dt\nt_iter += 1\nt_plot += 1\n\nsolver.n_lloyds = 1\nsolver.cost_params[\"p\"] = p\n\nwith open(simu_name + f\"/params.pkl\",'wb') as file:\n    pickle.dump(solver,file)\n\n#=========================== RUN ===========================#\n\nwhile t<T:\n    print(\"--------------------------\",flush=True)\n    print(f\"t={t}\",flush=True)\n    print(\"--------------------------\",flush=True)\n    \n    plotting_time = t_iter%plot_every==0\n    \n    if plotting_time:\n        print(\"I plot.\",flush=True)\n        solver.n_sinkhorn_last = 2000\n        solver.n_sinkhorn = 2000\n        solver.s0 = 2.0\n    else:\n        print(\"I do not plot.\",flush=True)\n        solver.n_sinkhorn_last = 250\n        solver.n_sinkhorn = 250\n        solver.s0 = 2*simu.R_mean\n    \n    F_inc = solver.lloyd_step(simu,\n                sinkhorn_algo=ot_algo,cap=cap,\n                tau=tau,\n                to_bary=False,\n                show_progress=False,\n                default_init=False)\n    \n    simu.x += v0*simu.axis*dt\n    \n    simu.axis += math.sqrt(2*diff*dt)*torch.randn((N,2))\n    simu.axis /= torch.norm(simu.axis,dim=1).reshape((N,1))\n    \n    simu.x += F_inc*dt\n    \n    simu.x = torch.remainder(simu.x,1)\n\n    print(torch.max(torch.norm(F_inc,dim=1)))\n    \n    if plotting_time:\n        simu_plot.update_plot(simu)\n        simu_plot.fig.savefig(simu_name + \"/frames/\" + f\"t_{t_plot}.png\")\n        with open(simu_name + \"/data/\" + f\"data_{t_plot}.pkl\",'wb') as file:\n            pickle.dump(simu,file)\n        t_plot += 1\n\n    t += dt\n    t_iter += 1\n    \nutils.make_video(simu_name=simu_name,video_name=simu_name)"
      ]
    }
  ],
  "metadata": {
    "kernelspec": {
      "display_name": "Python 3",
      "language": "python",
      "name": "python3"
    },
    "language_info": {
      "codemirror_mode": {
        "name": "ipython",
        "version": 3
      },
      "file_extension": ".py",
      "mimetype": "text/x-python",
      "name": "python",
      "nbconvert_exporter": "python",
      "pygments_lexer": "ipython3",
      "version": "3.10.14"
    }
  },
  "nbformat": 4,
  "nbformat_minor": 0
}