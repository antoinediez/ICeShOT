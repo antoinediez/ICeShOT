{
  "cells": [
    {
      "cell_type": "markdown",
      "metadata": {},
      "source": [
        "\n# Run-and-tumble in 3D with soft spheres\n\n.. video:: ../_static/SMV25_RunTumble_3D.mp4\n    :autoplay:\n    :loop:\n    :muted:\n    :width: 400\n    \n|\n"
      ]
    },
    {
      "cell_type": "code",
      "execution_count": null,
      "metadata": {
        "collapsed": false
      },
      "outputs": [],
      "source": [
        "# sphinx_gallery_thumbnail_path = '_static/tumble_bricks.png'\n\n\nimport os \nimport sys\nsys.path.append(\"..\")\nimport pickle\nimport math\nimport torch\nimport numpy as np\nfrom matplotlib import pyplot as plt\nfrom matplotlib import colors\nfrom matplotlib.colors import ListedColormap\nfrom iceshot import cells\nfrom iceshot import costs\nfrom iceshot import OT\nfrom iceshot.OT import OT_solver\nfrom iceshot import plot_cells\nfrom iceshot import sample\nfrom iceshot import utils\nfrom iceshot.cells import DataPoints\nfrom pykeops.torch import LazyTensor\nfrom tqdm import tqdm \nimport tifffile as tif\n\nuse_cuda = torch.cuda.is_available()\nif use_cuda:\n    torch.set_default_tensor_type(\"torch.cuda.FloatTensor\")\n    device = \"cuda\"\n    \n# ot_algo = OT.sinkhorn_zerolast\not_algo = OT.LBFGSB\n    \nsimu_name = \"simu_RunTumble3D\"\nos.mkdir(simu_name)\nos.mkdir(simu_name+\"/frames\")\nos.mkdir(simu_name+\"/data\")\n\nN = 126\nM = 128 \n\nsource = sample.sample_grid(M,dim=3)\nseeds = torch.rand(N,3)\n\nvol_x = 0.5 + 0.5*torch.rand(N)\nvol_x *= 0.8/vol_x.sum()\n\nR0 = (vol_x[-1].item()/(4./3.*math.pi)) ** (1./3.)\n\nsimu = cells.Cells(\n    seeds=seeds,source=source,\n    vol_x=vol_x,extra_space=\"void\",\n    bc=None\n)\n\neng = torch.linspace(0.5,3.5,N)\n\nT = 10.0\ndt = 0.0025\nplot_every = 4\nt = 0.0\nt_iter = 0\nt_plot = 0\n\nFinc0 = 0.2\njump_rate = 1.0\nv0 = 0.4\n\n\n#======================= INITIALISE ========================#\n\n\ncost_params = {\n    \"scaling\" : \"volume\",\n    \"R\" : R0,\n    \"C\" : 1.0\n}\n\nsolver = OT_solver(\n    n_sinkhorn=300,n_sinkhorn_last=2000,n_lloyds=5,s0=2.0,\n    cost_function=costs.l2_cost,cost_params=cost_params\n)\n\ncap = None\n\nsolver.solve(simu,\n             sinkhorn_algo=OT.sinkhorn_zerolast,cap=cap,\n             tau=1.0,\n             to_bary=True,\n             show_progress=False)\n\n\ncost_params = {\n    \"scaling\" : \"volume\",\n    \"R\" : R0,\n    \"C\" : eng\n}\n\nsolver = OT_solver(\n    n_sinkhorn=300,n_sinkhorn_last=2000,n_lloyds=5,s0=1.0,\n    cost_function=costs.l2_cost,cost_params=cost_params\n)\n\ncap = None\n\nsolver.solve(simu,\n             sinkhorn_algo=ot_algo,cap=cap,\n             tau=1.0,\n             to_bary=True,\n             show_progress=False,\n             default_init=False)\n\ntif.imsave(simu_name + \"/frames/\"+f\"t_{t_iter}.tif\", simu.labels.reshape(M,M,M).cpu().numpy(), bigtiff=True)\nt_plot += 1\nt += dt\nt_iter += 1\n\n#=========================== RUN ===========================#\n\nwhile t<T:\n    print(\"--------------------------\",flush=True)\n    print(f\"t={t}\",flush=True)\n    print(\"--------------------------\",flush=True)\n\n    plotting_time = t_iter%plot_every==0\n    \n    if plotting_time:\n        print(\"I plot.\",flush=True)\n        solver.n_sinkhorn_last = 3000\n        solver.n_sinkhorn = 3000\n        solver.s0 = 1.5\n        di = False\n    else:\n        print(\"I do not plot.\",flush=True)\n        solver.n_sinkhorn_last = 300\n        solver.n_sinkhorn = 300\n        solver.s0 = 2*simu.R_mean\n        di = False\n        \n    R = (simu.volumes[:-1]/(4./3.*math.pi)) ** (1./3.)\n        \n    F_inc = solver.lloyd_step(simu,\n            sinkhorn_algo=ot_algo,cap=cap,\n            tau=1.0/(R ** 2),\n            to_bary=False,\n            show_progress=False,\n            default_init=di)\n    \n    simu.x +=  v0*simu.axis*dt + Finc0*F_inc*dt\n    \n    who_jumps = torch.rand(N) > math.exp(-jump_rate*dt)\n    simu.axis[who_jumps,:] = torch.randn((who_jumps.sum(),3))\n    simu.axis[who_jumps,:] /= torch.norm(simu.axis[who_jumps,:],dim=1).reshape((who_jumps.sum(),1))\n    \n    if plotting_time:\n        tif.imsave(simu_name + \"/frames/\"+f\"t_{t_plot}.tif\", simu.labels.reshape(M,M,M).cpu().numpy(), bigtiff=True)\n        t_plot += 1\n    \n    t += dt\n    t_iter += 1"
      ]
    }
  ],
  "metadata": {
    "kernelspec": {
      "display_name": "Python 3",
      "language": "python",
      "name": "python3"
    },
    "language_info": {
      "codemirror_mode": {
        "name": "ipython",
        "version": 3
      },
      "file_extension": ".py",
      "mimetype": "text/x-python",
      "name": "python",
      "nbconvert_exporter": "python",
      "pygments_lexer": "ipython3",
      "version": "3.10.14"
    }
  },
  "nbformat": 4,
  "nbformat_minor": 0
}